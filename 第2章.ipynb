{
  "nbformat": 4,
  "nbformat_minor": 0,
  "metadata": {
    "colab": {
      "provenance": [],
      "toc_visible": true
    },
    "kernelspec": {
      "name": "python3",
      "display_name": "Python 3"
    },
    "language_info": {
      "name": "python"
    }
  },
  "cells": [
    {
      "cell_type": "markdown",
      "source": [
        "# 第2章　Pythonの基礎\n",
        "この章では、Pythonのコードについて、変数、型、算術演算子、print()関数、代入演算子、input()関数、数学関数、文字について解説する。"
      ],
      "metadata": {
        "id": "EOUqcLKlGWqx"
      }
    },
    {
      "cell_type": "markdown",
      "source": [
        "## 2.1　**コード**"
      ],
      "metadata": {
        "id": "pmGyXEiY-NPP"
      }
    },
    {
      "cell_type": "code",
      "source": [
        "a = 10        # 変数aに10を代入\n",
        "b = 30        # 変数bに30を代入\n",
        "c = a + b     # aとbを加算し、その結果を変数cに代入\n",
        "print(\"a+b=\", c)  # 変数cの内容を表示"
      ],
      "metadata": {
        "colab": {
          "base_uri": "https://localhost:8080/"
        },
        "id": "Q7BIh8Us-XcY",
        "outputId": "d453c639-907a-4eba-8d42-7fbc45872b1a"
      },
      "execution_count": null,
      "outputs": [
        {
          "output_type": "stream",
          "name": "stdout",
          "text": [
            "a+b= 40\n"
          ]
        }
      ]
    },
    {
      "cell_type": "markdown",
      "source": [
        "### 2.1.1　コードの記述方法"
      ],
      "metadata": {
        "id": "0iJAJlMtHg_p"
      }
    },
    {
      "cell_type": "code",
      "source": [
        "a = 50       # 変数 a に 50 を代入\n",
        "if a >= 60:  # a が 60 以上か判定\n",
        "    print(\"合格\")    # 60 以上なら「合格」を表示\n",
        "else:\n",
        "    print(\"不合格\")  # 60 未満なら「不合格」を表示"
      ],
      "metadata": {
        "colab": {
          "base_uri": "https://localhost:8080/"
        },
        "id": "s0bfDSrU-olH",
        "outputId": "9badb231-8eac-47fe-c3cb-95332d4a9e7f"
      },
      "execution_count": null,
      "outputs": [
        {
          "output_type": "stream",
          "name": "stdout",
          "text": [
            "不合格\n"
          ]
        }
      ]
    },
    {
      "cell_type": "markdown",
      "source": [
        "### 2.1.2　ブロック"
      ],
      "metadata": {
        "id": "bPO8W-sYHyMB"
      }
    },
    {
      "cell_type": "code",
      "source": [
        "s = 0                 # 合計を保持する変数 s を 0 で初期化\n",
        "for i in range(10):  # 0 から 9 までの数を順に加算\n",
        "    s = s + i         # s に i を加算\n",
        "    print(\"s=\", s)   # 現在の合計を表示"
      ],
      "metadata": {
        "colab": {
          "base_uri": "https://localhost:8080/"
        },
        "id": "8TEtZ_Mq-uIn",
        "outputId": "8a7e399c-9d31-464a-8049-eff53b795ec3"
      },
      "execution_count": null,
      "outputs": [
        {
          "output_type": "stream",
          "name": "stdout",
          "text": [
            "s= 0\n",
            "s= 1\n",
            "s= 3\n",
            "s= 6\n",
            "s= 10\n",
            "s= 15\n",
            "s= 21\n",
            "s= 28\n",
            "s= 36\n",
            "s= 45\n"
          ]
        }
      ]
    },
    {
      "cell_type": "markdown",
      "source": [],
      "metadata": {
        "id": "TWFvJrt3H7Kg"
      }
    },
    {
      "cell_type": "markdown",
      "source": [
        "### 2.1.3　コメント"
      ],
      "metadata": {
        "id": "FIoBcCNBH7Yo"
      }
    },
    {
      "cell_type": "code",
      "source": [
        "\"\"\"\n",
        "プログラムの内容：\n",
        "このプログラムは \"abc\"を5回表示する。\n",
        "作成者：〇〇　〇〇\n",
        "作成日：2025/01/16\n",
        "\"\"\"\n",
        "for i in range(5):  # 0 から 4 まで繰り返すループ\n",
        "#  a = 123  （この行はコメントアウトされている）\n",
        "    print(\"abc\")  # \"abc\"を表示"
      ],
      "metadata": {
        "colab": {
          "base_uri": "https://localhost:8080/"
        },
        "id": "N6FtQuR0-1nA",
        "outputId": "71206b62-8569-4e78-dbc0-00ffcff82627"
      },
      "execution_count": null,
      "outputs": [
        {
          "output_type": "stream",
          "name": "stdout",
          "text": [
            "abc\n",
            "abc\n",
            "abc\n",
            "abc\n",
            "abc\n"
          ]
        }
      ]
    },
    {
      "cell_type": "markdown",
      "source": [
        "# 2.3　**型**"
      ],
      "metadata": {
        "id": "A_s6KS80_C4g"
      }
    },
    {
      "cell_type": "markdown",
      "source": [
        "### 2.3.1　主に使われる型"
      ],
      "metadata": {
        "id": "vHbGIgonIOTw"
      }
    },
    {
      "cell_type": "markdown",
      "source": [],
      "metadata": {
        "id": "Su_lbiM6IIYQ"
      }
    },
    {
      "cell_type": "code",
      "source": [
        "a = 10     # 整数型（int）\n",
        "b = 1.23   # 浮動小数点型（float）\n",
        "c = \"abc\"  # 文字列（str）\n",
        "print(a,b, c)"
      ],
      "metadata": {
        "colab": {
          "base_uri": "https://localhost:8080/"
        },
        "id": "xWVyQL9t_GLo",
        "outputId": "55a254f0-ae0a-4f25-d26a-f3baffca5f7c"
      },
      "execution_count": null,
      "outputs": [
        {
          "output_type": "stream",
          "name": "stdout",
          "text": [
            "10 1.23 abc\n"
          ]
        }
      ]
    },
    {
      "cell_type": "markdown",
      "source": [
        "### 2.3.2　型が違うもの同士の演算"
      ],
      "metadata": {
        "id": "3-5kibLVIdDB"
      }
    },
    {
      "cell_type": "code",
      "source": [
        "a = 5      # 整数型（int）\n",
        "b = 2.0    # 浮動小数点型（float）\n",
        "c = a + b  # int と float の計算結果は float になる\n",
        "d = a / b  # 割り算の結果は常に float になる\n",
        "print(c)   # 7.0 を出力\n",
        "print(d)   # 2.5 を出力\n",
        "print(\"a=\", a)  # 現在の a の値を表示\n",
        "a = \"abcd\"  # 8行目: 変数 a に文字列（str）を代入（型の変更）\n",
        "print(\"a=\", a)  # 文字列 \"abcd\" を出力"
      ],
      "metadata": {
        "colab": {
          "base_uri": "https://localhost:8080/"
        },
        "id": "EdFiByaF_ZQQ",
        "outputId": "f75094a1-90b0-4d9c-bbd5-245cc1c7d577"
      },
      "execution_count": null,
      "outputs": [
        {
          "output_type": "stream",
          "name": "stdout",
          "text": [
            "7.0\n",
            "2.5\n",
            "a= 5\n",
            "a= abcd\n"
          ]
        }
      ]
    },
    {
      "cell_type": "markdown",
      "source": [
        "### 2.3.3　近似値"
      ],
      "metadata": {
        "id": "Kxum3ynEIkdh"
      }
    },
    {
      "cell_type": "code",
      "source": [
        "a = 0.1+0.2  # 浮動小数点\n",
        "print(a)"
      ],
      "metadata": {
        "colab": {
          "base_uri": "https://localhost:8080/"
        },
        "id": "atv_UMNw_gag",
        "outputId": "ab731e92-71f2-492c-9f11-da0afa557c54"
      },
      "execution_count": null,
      "outputs": [
        {
          "output_type": "stream",
          "name": "stdout",
          "text": [
            "0.30000000000000004\n"
          ]
        }
      ]
    },
    {
      "cell_type": "markdown",
      "source": [
        "### 2.3.4　type()関数"
      ],
      "metadata": {
        "id": "_XpduCXIIsVS"
      }
    },
    {
      "cell_type": "code",
      "source": [
        "a = 5         # 整数型（int）\n",
        "b = 1.23      # 浮動小数点型（float）\n",
        "c = True      # ブール型（bool）\n",
        "d = \"Hello.\"  # 文字列型（str）\n",
        "print(\"a=\", a, \"a の型は\", type(a))\n",
        "print(\"b=\", b, \"b の型は\", type(b))\n",
        "print(\"c=\", c, \"c の型は\", type(c))\n",
        "print(\"d=\", d, \"d の型は\", type(d))"
      ],
      "metadata": {
        "colab": {
          "base_uri": "https://localhost:8080/"
        },
        "id": "_De_KNUP_i0g",
        "outputId": "19516adb-429d-412f-a842-aa88f6277ea7"
      },
      "execution_count": null,
      "outputs": [
        {
          "output_type": "stream",
          "name": "stdout",
          "text": [
            "a= 5 a の型は <class 'int'>\n",
            "b= 1.23 b の型は <class 'float'>\n",
            "c= True c の型は <class 'bool'>\n",
            "d= Hello. d の型は <class 'str'>\n"
          ]
        }
      ]
    },
    {
      "cell_type": "markdown",
      "source": [
        "### 2.3.5　型の変換"
      ],
      "metadata": {
        "id": "bg-HX5KAIyeY"
      }
    },
    {
      "cell_type": "code",
      "source": [
        "a = 5         # 整数型（int）\n",
        "b = 3.14      # 浮動小数点型（float）\n",
        "c = \"123\"     # 文字列型（str）\n",
        "print(\"float(a):\", float(a))  # 整数を浮動小数点型に変換\n",
        "print(\"int(b):\", int(b))      # 浮動小数点型を整数型に変換\n",
        "print(\"int(c):\", int(c))      # 文字列型を整数型に変換\n",
        "d = \"pi=\" + str(b)  # 文字型へ変換\n",
        "print(d)  # \"pi=3.14\" を出力"
      ],
      "metadata": {
        "colab": {
          "base_uri": "https://localhost:8080/"
        },
        "id": "yDl6FIsw_nGh",
        "outputId": "f5f44cde-50e6-41ac-fde9-7630e419485b"
      },
      "execution_count": null,
      "outputs": [
        {
          "output_type": "stream",
          "name": "stdout",
          "text": [
            "float(a): 5.0\n",
            "int(b): 3\n",
            "int(c): 123\n",
            "pi=3.14\n"
          ]
        }
      ]
    },
    {
      "cell_type": "markdown",
      "source": [
        "# 2.4　**算術演算子**"
      ],
      "metadata": {
        "id": "K7JASDKL_02g"
      }
    },
    {
      "cell_type": "markdown",
      "source": [
        "### 2.4.1　ゼロで割った場合"
      ],
      "metadata": {
        "id": "fNKo8a8pI4Qh"
      }
    },
    {
      "cell_type": "code",
      "source": [
        "t = 0\n",
        "print(10 /t )   # ゼロで割るためエラー発生"
      ],
      "metadata": {
        "colab": {
          "base_uri": "https://localhost:8080/",
          "height": 159
        },
        "id": "9Y64nKbR_3iR",
        "outputId": "af115d6f-fc64-423e-8fc6-2e7bad03f364"
      },
      "execution_count": null,
      "outputs": [
        {
          "output_type": "error",
          "ename": "ZeroDivisionError",
          "evalue": "division by zero",
          "traceback": [
            "\u001b[0;31m---------------------------------------------------------------------------\u001b[0m",
            "\u001b[0;31mZeroDivisionError\u001b[0m                         Traceback (most recent call last)",
            "\u001b[0;32m<ipython-input-10-a15db838f9e0>\u001b[0m in \u001b[0;36m<cell line: 0>\u001b[0;34m()\u001b[0m\n\u001b[1;32m      1\u001b[0m \u001b[0mt\u001b[0m \u001b[0;34m=\u001b[0m \u001b[0;36m0\u001b[0m\u001b[0;34m\u001b[0m\u001b[0;34m\u001b[0m\u001b[0m\n\u001b[0;32m----> 2\u001b[0;31m \u001b[0mprint\u001b[0m\u001b[0;34m(\u001b[0m\u001b[0;36m10\u001b[0m \u001b[0;34m/\u001b[0m\u001b[0mt\u001b[0m \u001b[0;34m)\u001b[0m   \u001b[0;31m# ゼロで割るためエラー発生\u001b[0m\u001b[0;34m\u001b[0m\u001b[0;34m\u001b[0m\u001b[0m\n\u001b[0m",
            "\u001b[0;31mZeroDivisionError\u001b[0m: division by zero"
          ]
        }
      ]
    },
    {
      "cell_type": "markdown",
      "source": [
        "# 2.5　print()**関数**"
      ],
      "metadata": {
        "id": "JDLjycMVAB4w"
      }
    },
    {
      "cell_type": "markdown",
      "source": [
        "### 2.5.1　変換演算子"
      ],
      "metadata": {
        "id": "yavz8JadI9qS"
      }
    },
    {
      "cell_type": "code",
      "source": [
        "date = \"8月6日\"\n",
        "temp = 20\n",
        "print(\"%sの気温は%d度\" %(date, temp))  # 3行目\n",
        "a = 123\n",
        "print(\"aの値=%6d\" % a)    # 整数を6桁で表示（右寄せ）\n",
        "b = 12.345\n",
        "print(\"bの値=%6.2f\" % b)  # 全部で6桁小数点以下2桁"
      ],
      "metadata": {
        "colab": {
          "base_uri": "https://localhost:8080/"
        },
        "id": "Ebm6ivq-AFCJ",
        "outputId": "6e612ed8-d2ee-405f-a074-8b008a8f744f"
      },
      "execution_count": null,
      "outputs": [
        {
          "output_type": "stream",
          "name": "stdout",
          "text": [
            "8月6日の気温は20度\n",
            "aの値=   123\n",
            "bの値= 12.35\n"
          ]
        }
      ]
    },
    {
      "cell_type": "markdown",
      "source": [
        "### 2.5.2　print()関数のオプション"
      ],
      "metadata": {
        "id": "xXpH2QQrJEzq"
      }
    },
    {
      "cell_type": "code",
      "source": [
        "a = 10\n",
        "b = 20\n",
        "c = 30\n",
        "print(a, b, c, sep=\",\")  # セパレータをカンマに変更\n",
        "print()                   # 空のprint()で改行のみ出力\n",
        "print(\"Hello\\nWorld!!\")  # 途中に改行を挿入"
      ],
      "metadata": {
        "colab": {
          "base_uri": "https://localhost:8080/"
        },
        "id": "ogGy3mBRANn_",
        "outputId": "31cd3b4d-8cd6-44d4-875d-af4d99eae5dc"
      },
      "execution_count": null,
      "outputs": [
        {
          "output_type": "stream",
          "name": "stdout",
          "text": [
            "10,20,30\n",
            "\n",
            "Hello\n",
            "World!!\n"
          ]
        }
      ]
    },
    {
      "cell_type": "markdown",
      "source": [
        "### 2.5.3　format()メソッドを使った書式設定"
      ],
      "metadata": {
        "id": "BbJnwZd5JLFy"
      }
    },
    {
      "cell_type": "code",
      "source": [
        "pi = 3.141592\n",
        "print(\"{:.2f}\".format(pi))  # 小数点以下2桁で表示\n",
        "print(\"{:.4f}\".format(pi))  # 小数点以下4桁で表示\n",
        "a = 1234567\n",
        "print(\"{:,}\".format(a))   # 3桁ごとにカンマを挿入\n",
        "a = 123\n",
        "print(\"{:0>7}\".format(a))  # 7桁になるように前にゼロを埋める"
      ],
      "metadata": {
        "colab": {
          "base_uri": "https://localhost:8080/"
        },
        "id": "UjBrTEA9AYh5",
        "outputId": "943401db-1dc5-45e7-b1a9-fed7a5280d28"
      },
      "execution_count": null,
      "outputs": [
        {
          "output_type": "stream",
          "name": "stdout",
          "text": [
            "3.14\n",
            "3.1416\n",
            "1,234,567\n",
            "0000123\n"
          ]
        }
      ]
    },
    {
      "cell_type": "markdown",
      "source": [
        "### 2.5.4　桁数や文字の形式"
      ],
      "metadata": {
        "id": "NDCAqthVJgIS"
      }
    },
    {
      "cell_type": "code",
      "source": [
        "a=31415.9265\n",
        "print(\"{:0>12,.2f}\".format(a))\n",
        "\n",
        "a=31415.9265\n",
        "print(\"{:>12.3f}\".format(a))"
      ],
      "metadata": {
        "colab": {
          "base_uri": "https://localhost:8080/"
        },
        "id": "gCnQlIg7FITx",
        "outputId": "e4fc8f98-1e69-43db-c1a6-9d446585ae49"
      },
      "execution_count": null,
      "outputs": [
        {
          "output_type": "stream",
          "name": "stdout",
          "text": [
            "00031,415.93\n",
            "   31415.927\n"
          ]
        }
      ]
    },
    {
      "cell_type": "markdown",
      "source": [
        "# 2.6　**代入演算子**"
      ],
      "metadata": {
        "id": "ClSVxOjgF1vw"
      }
    },
    {
      "cell_type": "markdown",
      "source": [
        "### 2.6.2　多重代入"
      ],
      "metadata": {
        "id": "82B-Jpf6Jn6i"
      }
    },
    {
      "cell_type": "code",
      "source": [
        "a, b, c = 10, 20, 30\n",
        "print(a,b, c)\n",
        "a = b = c = 0\n",
        "print(a,b, c)"
      ],
      "metadata": {
        "colab": {
          "base_uri": "https://localhost:8080/"
        },
        "id": "twplrm1NFfWA",
        "outputId": "1c7e438d-4313-490e-d2a5-297cd820d744"
      },
      "execution_count": null,
      "outputs": [
        {
          "output_type": "stream",
          "name": "stdout",
          "text": [
            "10 20 30\n",
            "0 0 0\n"
          ]
        }
      ]
    },
    {
      "cell_type": "markdown",
      "source": [
        "### 2.6.3　2つの変数の値の入れ替え"
      ],
      "metadata": {
        "id": "2o9Dy80mJtCp"
      }
    },
    {
      "cell_type": "code",
      "source": [
        "a, b = 10, 20\n",
        "a, b = b, a               # 変数aとbの入れ替え\n",
        "print(\"a=\", a, \"b=\", b)  # 出力結果：a= 20 b=10"
      ],
      "metadata": {
        "colab": {
          "base_uri": "https://localhost:8080/"
        },
        "id": "Gg6UQh5PF9gR",
        "outputId": "7229bb76-f187-4e55-b209-a7e75a556c10"
      },
      "execution_count": null,
      "outputs": [
        {
          "output_type": "stream",
          "name": "stdout",
          "text": [
            "a= 20 b= 10\n"
          ]
        }
      ]
    },
    {
      "cell_type": "markdown",
      "source": [
        "# 2.7　input()**関数**"
      ],
      "metadata": {
        "id": "pXMoVhxWGNJB"
      }
    },
    {
      "cell_type": "code",
      "source": [
        "i = input(\"a:\")  # 入力（文字列型として取得）\n",
        "a = int(i)       # 入力された文字列を整数型（int）に変換\n",
        "i = input(\"b:\")\n",
        "b = float(i)     # 入力された文字列を浮動小数点型（float）に変換\n",
        "print(\"a+b:\", a + b)"
      ],
      "metadata": {
        "colab": {
          "base_uri": "https://localhost:8080/"
        },
        "id": "9CJ6YrBJGLPY",
        "outputId": "023cfae8-9427-48ca-9a32-3da5ad6640c6"
      },
      "execution_count": null,
      "outputs": [
        {
          "output_type": "stream",
          "name": "stdout",
          "text": [
            "a:12\n",
            "b:3.14\n",
            "a+b: 15.14\n"
          ]
        }
      ]
    },
    {
      "cell_type": "markdown",
      "source": [
        "### 2.7.1　２つの整数を入力する場合"
      ],
      "metadata": {
        "id": "yIx5KIReJ23S"
      }
    },
    {
      "cell_type": "code",
      "source": [
        "a, b = input().split()  # 空白で区切る\n",
        "a = int(a)  # 整数に変換\n",
        "b = int(b)  # 整数に変換\n",
        "print(a, b)\n",
        "a, b = input().split(\",\")  # カンマで区切る\n",
        "print(a, b)\n",
        "a, b = map(int, input().split())\n",
        "print(a, b)"
      ],
      "metadata": {
        "colab": {
          "base_uri": "https://localhost:8080/"
        },
        "id": "dU8fdbq9GZ6x",
        "outputId": "96cd6b28-ea36-45d6-ac7a-6e31723d894b"
      },
      "execution_count": null,
      "outputs": [
        {
          "output_type": "stream",
          "name": "stdout",
          "text": [
            "1 2\n",
            "1 2\n",
            "3,4\n",
            "3 4\n",
            "5 6\n",
            "5 6\n"
          ]
        }
      ]
    },
    {
      "cell_type": "markdown",
      "source": [
        "# 2.8　**数学関数**"
      ],
      "metadata": {
        "id": "NPfp9fG6HOSp"
      }
    },
    {
      "cell_type": "markdown",
      "source": [
        "### 2.8.1　平方根と三角関数の例"
      ],
      "metadata": {
        "id": "mBPPoIzRKACC"
      }
    },
    {
      "cell_type": "code",
      "source": [
        "import math\n",
        "x = 3.0\n",
        "sq = math.sqrt( x )\n",
        "print(\"sqrt(3)=\", sq)\n",
        "pi = math.pi  # πの値\n",
        "s = math.sin(pi/3.0)\n",
        "c = math.cos(pi/3.0)\n",
        "t = math.tan(pi/3.0)\n",
        "print(\"sin(π/3)=\", s)\n",
        "print(\"cos(π/3)=\", c)\n",
        "print(\"tan(π/3)=\", t)"
      ],
      "metadata": {
        "colab": {
          "base_uri": "https://localhost:8080/"
        },
        "id": "2KPiA19hHSpb",
        "outputId": "6ffac45b-3eae-43f1-af05-789952662d99"
      },
      "execution_count": null,
      "outputs": [
        {
          "output_type": "stream",
          "name": "stdout",
          "text": [
            "sqrt(3)= 1.7320508075688772\n",
            "sin(π/3)= 0.8660254037844386\n",
            "cos(π/3)= 0.5000000000000001\n",
            "tan(π/3)= 1.7320508075688767\n"
          ]
        }
      ]
    },
    {
      "cell_type": "markdown",
      "source": [
        "### 2.8.2　ceil()・floor()関数"
      ],
      "metadata": {
        "id": "n337LrW0KFYz"
      }
    },
    {
      "cell_type": "code",
      "source": [
        "import math\n",
        "a = -3.5\n",
        "b = 3.5\n",
        "print(\"ceil=\", a, math.ceil(a))\n",
        "print(\"ceil=\", b, math.ceil(b))\n",
        "print(\"floor=\", a, math.floor(a))\n",
        "print(\"floor=\", b, math.floor(b))"
      ],
      "metadata": {
        "colab": {
          "base_uri": "https://localhost:8080/"
        },
        "id": "I6cBHWjoHbua",
        "outputId": "1e01d940-227b-4c4d-ddfd-f6ea2547daac"
      },
      "execution_count": null,
      "outputs": [
        {
          "output_type": "stream",
          "name": "stdout",
          "text": [
            "ceil= -3.5 -3\n",
            "ceil= 3.5 4\n",
            "floor= -3.5 -4\n",
            "floor= 3.5 3\n"
          ]
        }
      ]
    },
    {
      "cell_type": "markdown",
      "source": [
        "# 2.9　**文字列**"
      ],
      "metadata": {
        "id": "CfwbBpszHf7h"
      }
    },
    {
      "cell_type": "code",
      "source": [
        "a = \"abc\"\n",
        "b = '文字列'\n",
        "c = 'x=\"xyz\"'  # ダブルクォーテーションを含む文字列\n",
        "print(a, b, c)"
      ],
      "metadata": {
        "colab": {
          "base_uri": "https://localhost:8080/"
        },
        "id": "3gV3xvYMHiAB",
        "outputId": "22b265fd-7f22-4eba-ac91-7ae348846a6d"
      },
      "execution_count": null,
      "outputs": [
        {
          "output_type": "stream",
          "name": "stdout",
          "text": [
            "abc 文字列 x=\"xyz\"\n"
          ]
        }
      ]
    },
    {
      "cell_type": "markdown",
      "source": [
        "### 2.9.1　文字列の演算子"
      ],
      "metadata": {
        "id": "tinIgsbnKOka"
      }
    },
    {
      "cell_type": "code",
      "source": [
        "a = \"富士\"\n",
        "b = \"山\"\n",
        "c = a + b   # 文字列の連結\n",
        "d = a * 2   # 文字列の繰り返し\n",
        "print(c, d)\n",
        "a += \"川\"   # 文字列を更新（連結代入）\n",
        "print(a)"
      ],
      "metadata": {
        "colab": {
          "base_uri": "https://localhost:8080/"
        },
        "id": "N-3NFcVIHn7j",
        "outputId": "886b54eb-e2d4-4b40-a8f8-a39d2f79cfc5"
      },
      "execution_count": null,
      "outputs": [
        {
          "output_type": "stream",
          "name": "stdout",
          "text": [
            "富士山 富士富士\n",
            "富士川\n"
          ]
        }
      ]
    },
    {
      "cell_type": "markdown",
      "source": [
        "### 2.9.2　主な文字列操作のメソッド"
      ],
      "metadata": {
        "id": "GRyGkewPKYwK"
      }
    },
    {
      "cell_type": "code",
      "source": [
        "a = \"Tokyo OSAKA fukuoka\"\n",
        "print(\"lower():\", a.lower())   # すべて小文字に変更\n",
        "print(\"upper():\", a.upper())   # すべて大文字に変更\n",
        "print('count(\"o\"):', a.count(\"o\"))  # 「o」の数を数える\n",
        "print('find(\"o\"):', a.find(\"o\"))    # 初めて見つかった文字の位置\n",
        "print('rfind(\"o\"):', a.rfind(\"o\"))  # 最後に見つかった文字の位置\n",
        "print('replace(\"o\", \"@\"):', a.replace(\"o\", \"@\"))  # 置換"
      ],
      "metadata": {
        "colab": {
          "base_uri": "https://localhost:8080/"
        },
        "id": "4IT15LgrHtDK",
        "outputId": "e721ec5d-2633-423c-95e1-b41288eec37e"
      },
      "execution_count": null,
      "outputs": [
        {
          "output_type": "stream",
          "name": "stdout",
          "text": [
            "lower(): tokyo osaka fukuoka\n",
            "upper(): TOKYO OSAKA FUKUOKA\n",
            "count(\"o\"): 3\n",
            "find(\"o\"): 1\n",
            "rfind(\"o\"): 16\n",
            "replace(\"o\", \"@\"): T@ky@ OSAKA fuku@ka\n"
          ]
        }
      ]
    },
    {
      "cell_type": "markdown",
      "source": [
        "### 2.9.3　文字列の切り取り（スライス）"
      ],
      "metadata": {
        "id": "72DORC32Kdqq"
      }
    },
    {
      "cell_type": "code",
      "source": [
        "a = \"Tokyo OSAKA\"\n",
        "print(\"a[1]  :\", a[1])  # 2文字目(インデックスは0から始まる)\n",
        "print(\"a[-1] :\", a[-1])   # 最後の1文字\n",
        "print(\"a[1:3]:\", a[1:3])  # 2文字目から3文字目\n",
        "print(\"a[:2] :\", a[:2])   # 先頭2文字\n",
        "print(\"a[3:] :\", a[3:])   # 4文字から最後まで\n",
        "print(\"a[-3:]:\", a[-3:])  # 最後の3文字"
      ],
      "metadata": {
        "colab": {
          "base_uri": "https://localhost:8080/"
        },
        "id": "1plzSd5eHyG4",
        "outputId": "2e6e1c0a-446b-4bba-8ea8-99e0f4f57602"
      },
      "execution_count": null,
      "outputs": [
        {
          "output_type": "stream",
          "name": "stdout",
          "text": [
            "a[1]  : o\n",
            "a[-1] : A\n",
            "a[1:3]: ok\n",
            "a[:2] : To\n",
            "a[3:] : yo OSAKA\n",
            "a[-3:]: AKA\n"
          ]
        }
      ]
    },
    {
      "cell_type": "markdown",
      "source": [
        "### 2.9.5　文字列の判定メソッド"
      ],
      "metadata": {
        "id": "xYYChDBhKmHS"
      }
    },
    {
      "cell_type": "code",
      "source": [
        "a = \"A\"\n",
        "b = \"b\"\n",
        "c = \"4\"\n",
        "print(\"a 英字?:\", a.isalpha())    # 英字の判定\n",
        "print(\"a 小文字?:\", a.islower())  # 小文字の判定\n",
        "print(\"b 英字?:\", b.isalpha())    # 英字の判定\n",
        "print(\"b 小文字?:\", b.islower())  # 小文字の判定\n",
        "print(\"c 10進数値?:\", c.isdecimal())  # 10進数値の判定"
      ],
      "metadata": {
        "colab": {
          "base_uri": "https://localhost:8080/"
        },
        "id": "PNDg9Cd2H7xR",
        "outputId": "9b4ef113-3922-4c93-bd56-17e5c6b395a5"
      },
      "execution_count": null,
      "outputs": [
        {
          "output_type": "stream",
          "name": "stdout",
          "text": [
            "a 英字?: True\n",
            "a 小文字?: False\n",
            "b 英字?: True\n",
            "b 小文字?: True\n",
            "c 10進数値?: True\n"
          ]
        }
      ]
    },
    {
      "cell_type": "markdown",
      "source": [
        "### 2.9.7　文字の分布を表示"
      ],
      "metadata": {
        "id": "H0IMxEUxKvKy"
      }
    },
    {
      "cell_type": "code",
      "source": [
        "a = \"Tokyo Osaka kyoto\"\n",
        "n = [0]*27       # ①:0番目は「その他」、1～26番目は\"a\"～\"z\"\n",
        "for char in a:   # ②: 変数aの文字を1文字ずつchrに取り出す\n",
        "    if char.islower():  # 小文字の場合のみカウント\n",
        "        k = ord(char) - ord(\"a\") + 1  # ③:\"a\"を1, \"b\"を2, …\n",
        "        n[k] += 1       # ④:リストnのk番目の値を1加算\n",
        "    else:\n",
        "        n[0] += 1       # ⑤:「その他」にカウント\n",
        "print(\"その他:\", n[0])  # 「その他」の数を表示\n",
        "# \"a\"～\"z\" の出現回数を表示\n",
        "for i in range(1, 27):  # ⑥:\"a\"～\"z\" のループ\n",
        "    if n[i] > 0:\n",
        "        print(\"     \", chr(ord('a') + i - 1), n[i])"
      ],
      "metadata": {
        "colab": {
          "base_uri": "https://localhost:8080/"
        },
        "id": "EGshuIzKIE-B",
        "outputId": "35acb950-7c4d-44ba-b9ae-34a8438d3567"
      },
      "execution_count": null,
      "outputs": [
        {
          "output_type": "stream",
          "name": "stdout",
          "text": [
            "その他: 4\n",
            "      a 2\n",
            "      k 3\n",
            "      o 4\n",
            "      s 1\n",
            "      t 1\n",
            "      y 2\n"
          ]
        }
      ]
    }
  ]
}