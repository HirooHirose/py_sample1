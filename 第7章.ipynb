{
  "nbformat": 4,
  "nbformat_minor": 0,
  "metadata": {
    "colab": {
      "provenance": []
    },
    "kernelspec": {
      "name": "python3",
      "display_name": "Python 3"
    },
    "language_info": {
      "name": "python"
    }
  },
  "cells": [
    {
      "cell_type": "markdown",
      "source": [
        "# 第7章　Pandasの使い方\n",
        "この章では、Pandas（パンダス）ライブラリの基本的な使い方について説明する。Pandasの基本的なデータ構造には、1次元配列を扱うシリーズ（Series）と、2次元配列を扱うデータフレーム（DataFrame）の2つがある。シリーズはリストや配列、辞書などのデータを基に作成され、データフレームは表形式のデータを扱うのに適している。\n",
        "Pandasは、NumPyをベースに作成されたライブラリであり、主に統計やデータ分析の際に使用される。特に、機械学習を行う際にはデータの前処理が重要であり、多くの時間を費やすことが多い。Pandasを活用することで、データの前処理を効率的に行うことができる。\n"
      ],
      "metadata": {
        "id": "UMD36dBQ6xKp"
      }
    },
    {
      "cell_type": "markdown",
      "source": [
        "## 7.1　シリーズ（Series)"
      ],
      "metadata": {
        "id": "xOYqqxQWkedU"
      }
    },
    {
      "cell_type": "markdown",
      "source": [
        "### 7.1.1　シリーズのデータ作成"
      ],
      "metadata": {
        "id": "OaTzEOYck1Jt"
      }
    },
    {
      "cell_type": "code",
      "source": [
        "import pandas as pd\n",
        "import numpy as np\n",
        "s1 = pd.Series([2, 5, 2, 1])  # ① s1に4つの数値を作成\n",
        "print(s1)\n",
        "s2 = pd.Series([11,13,15], index=[\"東京\",\"長野\",\"埼玉\"])  # ②\n",
        "print(s2)\n",
        "print(\"長野=\", s2[\"長野\"])             # ③ 長野の県コードを表示\n",
        "s3 = pd.Series(np.random.random(4))  # ④ 4個の乱数を作成\n",
        "print(s3)  # 乱数の表示"
      ],
      "metadata": {
        "colab": {
          "base_uri": "https://localhost:8080/"
        },
        "id": "G554nFc562R5",
        "outputId": "6a6bb11b-3a7a-4874-c119-3e4825642386"
      },
      "execution_count": null,
      "outputs": [
        {
          "output_type": "stream",
          "name": "stdout",
          "text": [
            "0    2\n",
            "1    5\n",
            "2    2\n",
            "3    1\n",
            "dtype: int64\n",
            "東京    11\n",
            "長野    13\n",
            "埼玉    15\n",
            "dtype: int64\n",
            "長野= 13\n",
            "0    0.427850\n",
            "1    0.996678\n",
            "2    0.831074\n",
            "3    0.127744\n",
            "dtype: float64\n"
          ]
        }
      ]
    },
    {
      "cell_type": "markdown",
      "source": [
        "### 7.1.2　商品の売上個数"
      ],
      "metadata": {
        "id": "SiJxLsjyk7D8"
      }
    },
    {
      "cell_type": "code",
      "source": [
        "import pandas as pd\n",
        "ix = [\"パソコン\", \"マウス\", \"プリンタ\"]  # ① 商品名\n",
        "v = [10, 5, 2]                     # ② 売上個数\n",
        "uriage = pd.Series(v, index = ix)  # Seriesを作成\n",
        "print(uriage)  # データを表示\n",
        "print(\"マウス:\", uriage[\"マウス\"])  # ③ 「マウス」の個数を表示\n",
        "print(uriage.values)  # ④ データ値（売上個数）を表示\n",
        "print(uriage.index)   # ⑤ インデックス値（商品名）を表示"
      ],
      "metadata": {
        "colab": {
          "base_uri": "https://localhost:8080/"
        },
        "id": "NYL7gPlY6_qA",
        "outputId": "542de3f0-f9bd-41bb-da9f-9e6999875744"
      },
      "execution_count": null,
      "outputs": [
        {
          "output_type": "stream",
          "name": "stdout",
          "text": [
            "パソコン    10\n",
            "マウス      5\n",
            "プリンタ     2\n",
            "dtype: int64\n",
            "マウス: 5\n",
            "[10  5  2]\n",
            "Index(['パソコン', 'マウス', 'プリンタ'], dtype='object')\n"
          ]
        }
      ]
    },
    {
      "cell_type": "markdown",
      "source": [
        "# 7.2　**データフレーム（DataFrame）**"
      ],
      "metadata": {
        "id": "SZXlcLdP7JqR"
      }
    },
    {
      "cell_type": "markdown",
      "source": [
        "### 7.2.1　データフレームの作成"
      ],
      "metadata": {
        "id": "xf0X-vallAHE"
      }
    },
    {
      "cell_type": "code",
      "source": [
        "import pandas as pd\n",
        "df1 = pd.DataFrame({\n",
        "    \"名前\" : [\"山田\", \"田中\", \"鈴木\"],\n",
        "    \"出身\" : [\"長野\", \"千葉\", \"埼玉\"],\n",
        "    \"年齢\" : [20, 31, 55] })\n",
        "print(df1)  # データフレームの表示\n",
        "print(\"行=\", df1.index)    # 行見出し（インデックス）を表示\n",
        "print(\"列=\", df1.columns)  # 列見出し（カラム）を表示"
      ],
      "metadata": {
        "colab": {
          "base_uri": "https://localhost:8080/"
        },
        "id": "Oyh9UEoX7Ncw",
        "outputId": "f64c4080-398e-41ad-8f48-c4c39f3ecac9"
      },
      "execution_count": null,
      "outputs": [
        {
          "output_type": "stream",
          "name": "stdout",
          "text": [
            "   名前  出身  年齢\n",
            "0  山田  長野  20\n",
            "1  田中  千葉  31\n",
            "2  鈴木  埼玉  55\n",
            "行= RangeIndex(start=0, stop=3, step=1)\n",
            "列= Index(['名前', '出身', '年齢'], dtype='object')\n"
          ]
        }
      ]
    },
    {
      "cell_type": "markdown",
      "source": [
        "### 7.2.2　データの追加・削除"
      ],
      "metadata": {
        "id": "Om3jRLCqlLJk"
      }
    },
    {
      "cell_type": "code",
      "source": [
        "import pandas as pd\n",
        "df1 = pd.DataFrame({\n",
        "    \"名前\" : [\"山田\", \"田中\", \"鈴木\"],\n",
        "    \"出身\" : [\"長野\", \"千葉\", \"埼玉\"],\n",
        "    \"年齢\" : [20, 31, 55] })\n",
        "df2 = pd.DataFrame({\"名前\":[\"佐藤\"], \"出身\":[\"東京\"], \"年齢\":[41]})\n",
        "df1 = pd.concat([df1, df2])  # ① データフレームを結合\n",
        "print(df1)\n",
        "df1 = df1.drop(1)             # ② 「田中」の行を削除\n",
        "print(\"--削除後--\\n\", df1)\n",
        "df1 = df1.reset_index(drop=True)  # ③ indexの振り直し\n",
        "print(\"--indexの振り直し後--\\n\", df1)"
      ],
      "metadata": {
        "colab": {
          "base_uri": "https://localhost:8080/"
        },
        "id": "CqBHPRGf7SWp",
        "outputId": "79161aff-81a6-4ea4-d915-a8eec0375579"
      },
      "execution_count": null,
      "outputs": [
        {
          "output_type": "stream",
          "name": "stdout",
          "text": [
            "   名前  出身  年齢\n",
            "0  山田  長野  20\n",
            "1  田中  千葉  31\n",
            "2  鈴木  埼玉  55\n",
            "0  佐藤  東京  41\n",
            "--削除後--\n",
            "    名前  出身  年齢\n",
            "0  山田  長野  20\n",
            "2  鈴木  埼玉  55\n",
            "0  佐藤  東京  41\n",
            "--indexの振り直し後--\n",
            "    名前  出身  年齢\n",
            "0  山田  長野  20\n",
            "1  鈴木  埼玉  55\n",
            "2  佐藤  東京  41\n"
          ]
        }
      ]
    },
    {
      "cell_type": "markdown",
      "source": [
        "### 7.2.3　csvファイルの読み込み"
      ],
      "metadata": {
        "id": "uXseEfBBlQDs"
      }
    },
    {
      "cell_type": "code",
      "source": [
        "import pandas as pd\n",
        "df = pd.read_csv(\"/content/drive/MyDrive/sample.csv\")\n",
        "print(df)"
      ],
      "metadata": {
        "colab": {
          "base_uri": "https://localhost:8080/"
        },
        "id": "ufKU2zWi7e8p",
        "outputId": "99a56fdc-d5e3-4dd8-95db-a5e7dc73f060"
      },
      "execution_count": null,
      "outputs": [
        {
          "output_type": "stream",
          "name": "stdout",
          "text": [
            "    県コード   県名    人口\n",
            "0      1  北海道   504\n",
            "1      2   青森   120\n",
            "2      3   岩手   116\n",
            "3      4   宮城   222\n",
            "4      5   秋田    92\n",
            "5      6   山形   102\n",
            "6      7   福島   178\n",
            "7      8   茨城   278\n",
            "8      9   栃木   187\n",
            "9     10   群馬   185\n",
            "10    11   埼玉   715\n",
            "11    12   千葉   611\n",
            "12    13  東京都  1326\n",
            "13    14  神奈川   895\n",
            "14    15   新潟   212\n",
            "15    16   富山   100\n",
            "16    17   石川   109\n",
            "17    18   福井    74\n",
            "18    19   山梨    79\n",
            "19    20   長野   199\n",
            "20    21   岐阜   190\n",
            "21    22   静岡   349\n",
            "22    23   愛知   720\n",
            "23    24   三重   169\n",
            "24    25   滋賀   137\n",
            "25    26  京都府   241\n",
            "26    27  大阪府   848\n",
            "27    28   兵庫   530\n",
            "28    29   奈良   130\n",
            "29    30  和歌山    90\n",
            "30    31   鳥取    53\n",
            "31    32   島根    64\n",
            "32    33   岡山   182\n",
            "33    34   広島   269\n",
            "34    35   山口   129\n",
            "35    36   徳島    70\n",
            "36    37   香川    93\n",
            "37    38   愛媛   130\n",
            "38    39   高知    67\n",
            "39    40   福岡   500\n",
            "40    41   佐賀    79\n",
            "41    42   長崎   128\n",
            "42    43   熊本   170\n",
            "43    44   大分   110\n",
            "44    45   宮崎   105\n",
            "45    46  鹿児島   156\n",
            "46    47   沖縄   146\n"
          ]
        }
      ]
    },
    {
      "cell_type": "code",
      "source": [
        "import pandas as pd\n",
        "df = pd.read_csv(\"/content/drive/MyDrive/sample.csv\")\n",
        "print(df[df[\"県コード\"] == 20])  # 県コードが20\n",
        "print(df[df[\"人口\"] > 700])      # 人口が700以上"
      ],
      "metadata": {
        "colab": {
          "base_uri": "https://localhost:8080/"
        },
        "id": "aoIHY7DV7lrw",
        "outputId": "10f04fcd-38bb-47cd-dc0a-aa0207092c32"
      },
      "execution_count": null,
      "outputs": [
        {
          "output_type": "stream",
          "name": "stdout",
          "text": [
            "    県コード  県名   人口\n",
            "19    20  長野  199\n",
            "    県コード   県名    人口\n",
            "10    11   埼玉   715\n",
            "12    13  東京都  1326\n",
            "13    14  神奈川   895\n",
            "22    23   愛知   720\n",
            "26    27  大阪府   848\n"
          ]
        }
      ]
    },
    {
      "cell_type": "markdown",
      "source": [
        "### 7.2.4　ソート、head()、tail()"
      ],
      "metadata": {
        "id": "3zIqhYLVmEDt"
      }
    },
    {
      "cell_type": "code",
      "source": [
        "import pandas as pd\n",
        "st = df.sort_values(by=\"人口\", ascending=False)  # ① 多い順\n",
        "print(st.head(3))   # ② 先頭から3件を表示\n",
        "print(st.tail(3))   # ③ 最後から3件を表示"
      ],
      "metadata": {
        "colab": {
          "base_uri": "https://localhost:8080/"
        },
        "id": "PdEbzVR27tDA",
        "outputId": "836225e9-4bb4-483d-da7d-7b9dbd2c9c15"
      },
      "execution_count": null,
      "outputs": [
        {
          "output_type": "stream",
          "name": "stdout",
          "text": [
            "    県コード   県名    人口\n",
            "12    13  東京都  1326\n",
            "13    14  神奈川   895\n",
            "26    27  大阪府   848\n",
            "    県コード  県名  人口\n",
            "38    39  高知  67\n",
            "31    32  島根  64\n",
            "30    31  鳥取  53\n"
          ]
        }
      ]
    },
    {
      "cell_type": "markdown",
      "source": [
        "### 7.2.5　基本統計量"
      ],
      "metadata": {
        "id": "3-ghPUc7urBO"
      }
    },
    {
      "cell_type": "code",
      "source": [
        "import pandas as pd\n",
        "import numpy as np\n",
        "df = pd.read_csv(\"/content/drive/MyDrive/seiseki.csv\")\n",
        "print(\"数学の最大:\", df[\"数学\"].max())  # 数学の最大\n",
        "print(\"国語の最小:\", df[\"国語\"].min())  # 国語の最小\n",
        "print(\"英語の合計:\", df[\"英語\"].sum())  # 英語の合計\n",
        "print(\"---describe().round(2)---\")\n",
        "print(df.describe().round(2))  # ① 基本統計量を表示\n",
        "print(\"---列ごとの最大値---\")\n",
        "print(df.max())   # 列ごとの最大値\n",
        "print(\"---行ごとの平均値---\")\n",
        "print(df.mean(axis=1, numeric_only=True).round(2))  # ② 平均値"
      ],
      "metadata": {
        "colab": {
          "base_uri": "https://localhost:8080/"
        },
        "id": "L60Bc9rT70P4",
        "outputId": "7da98ec9-fdd6-497c-b4d8-64211c9e457f"
      },
      "execution_count": null,
      "outputs": [
        {
          "output_type": "stream",
          "name": "stdout",
          "text": [
            "数学の最大: 90\n",
            "国語の最小: 34\n",
            "英語の合計: 417\n",
            "---describe().round(2)---\n",
            "          国語     数学    英語\n",
            "count   5.00   5.00   5.0\n",
            "mean   57.60  79.00  83.4\n",
            "std    20.89  10.82  12.1\n",
            "min    34.00  67.00  68.0\n",
            "25%    40.00  70.00  75.0\n",
            "50%    57.00  78.00  87.0\n",
            "75%    77.00  90.00  88.0\n",
            "max    80.00  90.00  99.0\n",
            "---列ごとの最大値---\n",
            "名前    青木\n",
            "国語    80\n",
            "数学    90\n",
            "英語    99\n",
            "dtype: object\n",
            "---行ごとの平均値---\n",
            "0    79.33\n",
            "1    74.00\n",
            "2    58.67\n",
            "3    66.00\n",
            "4    88.67\n",
            "dtype: float64\n"
          ]
        }
      ]
    },
    {
      "cell_type": "markdown",
      "source": [
        "### 7.2.6　特定の値の取得・変更"
      ],
      "metadata": {
        "id": "AUdSSKNCvDNd"
      }
    },
    {
      "cell_type": "code",
      "source": [
        "import pandas as pd\n",
        "df = pd.read_csv(\"/content/drive/MyDrive/seiseki.csv\")\n",
        "print(df[2:4])  # ① 2～3行目を取得\n",
        "print(\"2行目の英語の点数:\", df.at[2, \"英語\"])  # ②\n",
        "print(\"1行目の数学の点数\", df.iat[1, 2])       # ③\n",
        "df.iat[1, 2] = 100  # ④ 1行目の数学の点数を100点に変更\n",
        "print(\"1行目の数学の点数（変更後）\\n\", df)"
      ],
      "metadata": {
        "colab": {
          "base_uri": "https://localhost:8080/"
        },
        "id": "EuGyUbn-76-A",
        "outputId": "f4ce933c-4c75-40ec-be52-90c4c6c441f6"
      },
      "execution_count": null,
      "outputs": [
        {
          "output_type": "stream",
          "name": "stdout",
          "text": [
            "   名前  国語  数学  英語\n",
            "2  山田  34  67  75\n",
            "3  佐藤  40  70  88\n",
            "2行目の英語の点数: 75\n",
            "1行目の数学の点数 78\n",
            "1行目の数学の点数（変更後）\n",
            "    名前  国語   数学  英語\n",
            "0  田中  80   90  68\n",
            "1  鈴木  57  100  87\n",
            "2  山田  34   67  75\n",
            "3  佐藤  40   70  88\n",
            "4  青木  77   90  99\n"
          ]
        }
      ]
    },
    {
      "cell_type": "markdown",
      "source": [
        "### 7.2.7　特定の行・列の値の取得"
      ],
      "metadata": {
        "id": "zkj8QWfbvLJl"
      }
    },
    {
      "cell_type": "code",
      "source": [
        "import pandas as pd\n",
        "df = pd.read_csv(\"/content/drive/MyDrive/seiseki.csv\")\n",
        "print(\"--2行目のデータ--\\n\", df.loc[2])  # ① 2行目を取得\n",
        "print(\"--'名前' の列--\\n\", df.loc[:, [\"名前\"]]) # ② 名前\n",
        "df.loc[2] = 0  # ③ 2行目をすべて0にする\n",
        "print(\"--2行目のデータ（変更後）--\\n\", df)"
      ],
      "metadata": {
        "colab": {
          "base_uri": "https://localhost:8080/"
        },
        "id": "XvhZCLLe8AfR",
        "outputId": "540a8b17-b89d-4fd7-abf1-b4f058c8e3bb"
      },
      "execution_count": null,
      "outputs": [
        {
          "output_type": "stream",
          "name": "stdout",
          "text": [
            "--2行目のデータ--\n",
            " 名前    山田\n",
            "国語    34\n",
            "数学    67\n",
            "英語    75\n",
            "Name: 2, dtype: object\n",
            "--'名前' の列--\n",
            "    名前\n",
            "0  田中\n",
            "1  鈴木\n",
            "2  山田\n",
            "3  佐藤\n",
            "4  青木\n",
            "--2行目のデータ（変更後）--\n",
            "    名前  国語  数学  英語\n",
            "0  田中  80  90  68\n",
            "1  鈴木  57  78  87\n",
            "2   0   0   0   0\n",
            "3  佐藤  40  70  88\n",
            "4  青木  77  90  99\n"
          ]
        }
      ]
    },
    {
      "cell_type": "code",
      "source": [
        "import pandas as pd\n",
        "df = pd.read_csv(\"/content/drive/MyDrive/seiseki.csv\")\n",
        "print(\"--iloc[0:2])--\\n\",     df.iloc[0:2])   # ①\n",
        "print(\"--iloc[:, 2]--\\n\",     df.iloc[:, 2])  # ②\n",
        "print(\"--iloc[4, 1]--\\n\",     df.iloc[4, 1])  # ③\n",
        "print(\"--iloc[1:4, 2:4]--\\n\", df.iloc[1:4, 2:4])  # ④\n",
        "df.iloc[1:4, 2:4] = 0  # ⑤ 1行2列～3行3列の値をすべて0\n",
        "print(\"--iloc[1:4, 2:4] = 0--\\n\", df)"
      ],
      "metadata": {
        "colab": {
          "base_uri": "https://localhost:8080/"
        },
        "id": "Z87D4ERL8Fvg",
        "outputId": "cd91c564-1b8b-4cd1-84ac-963ec9656f17"
      },
      "execution_count": null,
      "outputs": [
        {
          "output_type": "stream",
          "name": "stdout",
          "text": [
            "--iloc[0:2])--\n",
            "    名前  国語  数学  英語\n",
            "0  田中  80  90  68\n",
            "1  鈴木  57  78  87\n",
            "--iloc[:, 2]--\n",
            " 0    90\n",
            "1    78\n",
            "2    67\n",
            "3    70\n",
            "4    90\n",
            "Name: 数学, dtype: int64\n",
            "--iloc[4, 1]--\n",
            " 77\n",
            "--iloc[1:4, 2:4]--\n",
            "    数学  英語\n",
            "1  78  87\n",
            "2  67  75\n",
            "3  70  88\n",
            "--iloc[1:4, 2:4] = 0--\n",
            "    名前  国語  数学  英語\n",
            "0  田中  80  90  68\n",
            "1  鈴木  57   0   0\n",
            "2  山田  34   0   0\n",
            "3  佐藤  40   0   0\n",
            "4  青木  77  90  99\n"
          ]
        }
      ]
    },
    {
      "cell_type": "markdown",
      "source": [
        "### 7.2.8　データの置換と外れ値の削除"
      ],
      "metadata": {
        "id": "c7ViqgaCvWKN"
      }
    },
    {
      "cell_type": "code",
      "source": [
        "import pandas as pd\n",
        "data = {\"名前\": [\"田中\", \"鈴木\", \"山田\", \"青木\"],\n",
        "        \"年齢\": [2, 21, 24, 160],\n",
        "        \"性別\": [\"男\",\"F\", \"女\", \"M\"]}\n",
        "df = pd.DataFrame(data)\n",
        "print(\"===元のデータ===\\n\", df)\n",
        "# ① \"男\" を \"M\"、\"女\" を \"F\" に統一\n",
        "df[\"性別\"] = df[\"性別\"].replace({\"男\":\"M\", \"女\":\"F\"})  # ①\n",
        "print(\"===性別を統一後===:\\n\", df)\n",
        "# ② 10歳から100歳までのデータを抽出（外れ値を削除）\n",
        "df2 = df[(df[\"年齢\"] > 10) & (df[\"年齢\"] < 100)]  # ②\n",
        "print(\"===外れ値を削除後===:\\n\", df2)"
      ],
      "metadata": {
        "colab": {
          "base_uri": "https://localhost:8080/"
        },
        "id": "LXHkaIBB8SSR",
        "outputId": "40424a7a-33c1-4620-ef3c-02f85d060438"
      },
      "execution_count": null,
      "outputs": [
        {
          "output_type": "stream",
          "name": "stdout",
          "text": [
            "===元のデータ===\n",
            "    名前   年齢 性別\n",
            "0  田中    2  男\n",
            "1  鈴木   21  F\n",
            "2  山田   24  女\n",
            "3  青木  160  M\n",
            "===性別を統一後===:\n",
            "    名前   年齢 性別\n",
            "0  田中    2  M\n",
            "1  鈴木   21  F\n",
            "2  山田   24  F\n",
            "3  青木  160  M\n",
            "===外れ値を削除後===:\n",
            "    名前  年齢 性別\n",
            "1  鈴木  21  F\n",
            "2  山田  24  F\n"
          ]
        }
      ]
    },
    {
      "cell_type": "markdown",
      "source": [
        "### 7.2.9　欠損値の検出と削除"
      ],
      "metadata": {
        "id": "C6lYu7fPve3N"
      }
    },
    {
      "cell_type": "code",
      "source": [
        "import pandas as pd\n",
        "df = pd.read_csv(\"/content/drive/MyDrive/NaN.csv\", na_values=[\"\"])     # ① 欠損値を NaN として読み込む\n",
        "print(df)\n",
        "print(\"--isnull()--\")\n",
        "print(df.isnull())  # ② 欠損値の有無を True / False で表示\n",
        "print(\"--isnull().sum(axis=0)--\")\n",
        "print(df.isnull().sum(axis=0))  # ③ 列ごとの欠損値の数\n",
        "print(\"--isnull().sum(axis=1)--\")\n",
        "print(df.isnull().sum(axis=1))  # ③ 行ごとの欠損値の数\n",
        "df2 = df.dropna()  # ④ 欠損値を含む行を削除\n",
        "print(\"--dropna--\")\n",
        "print(df2)"
      ],
      "metadata": {
        "colab": {
          "base_uri": "https://localhost:8080/"
        },
        "id": "Fokcr2FV8XjJ",
        "outputId": "836ad7a1-9227-4ae9-9eae-9c0dd6beb1a6"
      },
      "execution_count": null,
      "outputs": [
        {
          "output_type": "stream",
          "name": "stdout",
          "text": [
            "   名前  国語    数学    英語\n",
            "0  田中  80   NaN  68.0\n",
            "1  鈴木  79  78.0  87.0\n",
            "2  山田  34  67.0   NaN\n",
            "3  佐藤  66   NaN   NaN\n",
            "4  青木  77  90.0  99.0\n",
            "--isnull()--\n",
            "      名前     国語     数学     英語\n",
            "0  False  False   True  False\n",
            "1  False  False  False  False\n",
            "2  False  False  False   True\n",
            "3  False  False   True   True\n",
            "4  False  False  False  False\n",
            "--isnull().sum(axis=0)--\n",
            "名前    0\n",
            "国語    0\n",
            "数学    2\n",
            "英語    2\n",
            "dtype: int64\n",
            "--isnull().sum(axis=1)--\n",
            "0    1\n",
            "1    0\n",
            "2    1\n",
            "3    2\n",
            "4    0\n",
            "dtype: int64\n",
            "--dropna--\n",
            "   名前  国語    数学    英語\n",
            "1  鈴木  79  78.0  87.0\n",
            "4  青木  77  90.0  99.0\n"
          ]
        }
      ]
    },
    {
      "cell_type": "markdown",
      "source": [
        "### 7.2.10　欠損値を埋める処理"
      ],
      "metadata": {
        "id": "1NI_jP0vvvgm"
      }
    },
    {
      "cell_type": "code",
      "source": [
        "import pandas as pd\n",
        "df = pd.read_csv(\"/content/drive/MyDrive/NaN.csv\", na_values=[\"\"])\n",
        "df3 = df.fillna(10)  # 欠損値を10で埋める\n",
        "print(\"==> 欠損値を10で埋める\\n\", df3)\n",
        "df3 = df.ffill()     # 前の値で埋める\n",
        "print(\"==> 前の値で埋める\\n\", df3)\n",
        "df3 = df.bfill()     # 後ろの値で埋める\n",
        "print(\"==> 後ろの値で埋める\\n\", df3)"
      ],
      "metadata": {
        "colab": {
          "base_uri": "https://localhost:8080/"
        },
        "id": "eMj0U-vAJl1c",
        "outputId": "db40754c-bc0a-4dde-d809-edafa27d4d3b"
      },
      "execution_count": null,
      "outputs": [
        {
          "output_type": "stream",
          "name": "stdout",
          "text": [
            "==> 欠損値を10で埋める\n",
            "    名前  国語    数学    英語\n",
            "0  田中  80  10.0  68.0\n",
            "1  鈴木  79  78.0  87.0\n",
            "2  山田  34  67.0  10.0\n",
            "3  佐藤  66  10.0  10.0\n",
            "4  青木  77  90.0  99.0\n",
            "==> 前の値で埋める\n",
            "    名前  国語    数学    英語\n",
            "0  田中  80   NaN  68.0\n",
            "1  鈴木  79  78.0  87.0\n",
            "2  山田  34  67.0  87.0\n",
            "3  佐藤  66  67.0  87.0\n",
            "4  青木  77  90.0  99.0\n",
            "==> 後ろの値で埋める\n",
            "    名前  国語    数学    英語\n",
            "0  田中  80  78.0  68.0\n",
            "1  鈴木  79  78.0  87.0\n",
            "2  山田  34  67.0  99.0\n",
            "3  佐藤  66  90.0  99.0\n",
            "4  青木  77  90.0  99.0\n"
          ]
        }
      ]
    }
  ]
}