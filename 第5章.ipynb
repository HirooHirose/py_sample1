{
  "nbformat": 4,
  "nbformat_minor": 0,
  "metadata": {
    "colab": {
      "provenance": []
    },
    "kernelspec": {
      "name": "python3",
      "display_name": "Python 3"
    },
    "language_info": {
      "name": "python"
    }
  },
  "cells": [
    {
      "cell_type": "markdown",
      "source": [
        "## 5.1　関数"
      ],
      "metadata": {
        "id": "EqjO3IfMcK2d"
      }
    },
    {
      "cell_type": "markdown",
      "source": [
        "# 第5章　関数・オブジェクト指向\n",
        "この章では、関数とモジュールについて説明する。さらに、オブジェクト指向における情報の隠蔽、メソッド、クラスについても解説する。"
      ],
      "metadata": {
        "id": "9_troX4TcZPL"
      }
    },
    {
      "cell_type": "markdown",
      "source": [
        "## 5.1　関数"
      ],
      "metadata": {
        "id": "6glM8CMncXts"
      }
    },
    {
      "cell_type": "code",
      "source": [
        "import math\n",
        "a = math.sin(1.23)  # sinの計算\n",
        "print(\"a=\", a)"
      ],
      "metadata": {
        "colab": {
          "base_uri": "https://localhost:8080/"
        },
        "id": "djHsZn3OnbAl",
        "outputId": "3c3b2cdb-2e1f-4a79-cc83-91f4728b4764"
      },
      "execution_count": null,
      "outputs": [
        {
          "output_type": "stream",
          "name": "stdout",
          "text": [
            "a= 0.9424888019316975\n"
          ]
        }
      ]
    },
    {
      "cell_type": "markdown",
      "source": [
        "### 5.1.3　秒単位に変換する関数"
      ],
      "metadata": {
        "id": "X_tpL2XLcymM"
      }
    },
    {
      "cell_type": "code",
      "source": [
        "def jikan( hh, mm, ss ): # 秒に変換する関数\n",
        "    s = 3600 * hh + 60 * mm + ss\n",
        "    return s\n",
        "\n",
        "sec = jikan( 3, 15, 40 ) # 3時間15分40秒\n",
        "print(\"秒数 =\", sec)\n",
        "sec = jikan( 1, 23, 45 ) # 1時間23分45秒\n",
        "print(\"秒数 =\", sec)"
      ],
      "metadata": {
        "colab": {
          "base_uri": "https://localhost:8080/"
        },
        "id": "gXlV9Nihof--",
        "outputId": "adeeb952-2696-432a-b641-7c2899bb729e"
      },
      "execution_count": null,
      "outputs": [
        {
          "output_type": "stream",
          "name": "stdout",
          "text": [
            "秒数 = 11740\n",
            "秒数 = 5025\n"
          ]
        }
      ]
    },
    {
      "cell_type": "markdown",
      "source": [
        "### 5.1.4　グローバル変数とローカル変数の例"
      ],
      "metadata": {
        "id": "6ozor3T9c_xt"
      }
    },
    {
      "cell_type": "code",
      "source": [
        "a = 10  # グローバル変数（関数の外で定義）\n",
        "\n",
        "def func():\n",
        "    b = 30  # ローカル変数（関数の中で定義）\n",
        "    print(\"関数内: a =\", a)  # グローバル変数 a を参照\n",
        "    print(\"関数内: b =\", b)  # ローカル変数 b を参照\n",
        "\n",
        "func()\n",
        "print(\"関数外: a =\", a)  # グローバル変数 a は参照可能\n",
        "#print(\"関数外: b =\", b) # エラー ローカル変数 b は参照不可"
      ],
      "metadata": {
        "colab": {
          "base_uri": "https://localhost:8080/"
        },
        "id": "16PcnRUupCO1",
        "outputId": "667f1f20-4960-433a-aeff-056ff61c0b6e"
      },
      "execution_count": null,
      "outputs": [
        {
          "output_type": "stream",
          "name": "stdout",
          "text": [
            "関数内: a = 10\n",
            "関数内: b = 30\n",
            "関数外: a = 10\n"
          ]
        }
      ]
    },
    {
      "cell_type": "markdown",
      "source": [
        "### 5.1.5　引数にリストを指定した場合"
      ],
      "metadata": {
        "id": "n8pADWHKdIJK"
      }
    },
    {
      "cell_type": "code",
      "source": [
        "def func(a):\n",
        "    a[1] = a[1] + 22\n",
        "    print(\"[func] a=\", a)\n",
        "\n",
        "a = [10, 20, 30]\n",
        "func(a)\n",
        "print(\"[main] a=\", a)"
      ],
      "metadata": {
        "colab": {
          "base_uri": "https://localhost:8080/"
        },
        "id": "VSobaS1koAIP",
        "outputId": "7bc9f521-40bf-4d92-e21a-5a9615161298"
      },
      "execution_count": null,
      "outputs": [
        {
          "output_type": "stream",
          "name": "stdout",
          "text": [
            "[func] a= [10, 42, 30]\n",
            "[main] a= [10, 42, 30]\n"
          ]
        }
      ]
    },
    {
      "cell_type": "markdown",
      "source": [
        "### 5.1.6　関数の例"
      ],
      "metadata": {
        "id": "ZBaGv07QdRPb"
      }
    },
    {
      "cell_type": "code",
      "source": [
        "def wa( x, y ):  # 和を求める関数\n",
        "    w = x + y\n",
        "    return w  # return x + y でもよい\n",
        "\n",
        "def hosi( n ): # \"*\"をn個表示する関数\n",
        "    print(\"*\" * n)\n",
        "\n",
        "a = 10\n",
        "b = 20\n",
        "c = wa(a, b) # 和を求める\n",
        "print(\"c=\", c)\n",
        "hosi(10)   # \"*\"を10個表示\n",
        "hosi(5)    # \"*\"を5個表示"
      ],
      "metadata": {
        "colab": {
          "base_uri": "https://localhost:8080/"
        },
        "id": "rnmhGk-fsgev",
        "outputId": "e015db68-2255-48fe-b198-0aca2b699e24"
      },
      "execution_count": null,
      "outputs": [
        {
          "output_type": "stream",
          "name": "stdout",
          "text": [
            "c= 30\n",
            "**********\n",
            "*****\n"
          ]
        }
      ]
    },
    {
      "cell_type": "markdown",
      "source": [
        "### 5.1.7　リスト内の正の数の和を求める"
      ],
      "metadata": {
        "id": "FXG9gmi1dXsT"
      }
    },
    {
      "cell_type": "code",
      "source": [
        "def wa( list ):\n",
        "    s = 0\n",
        "    for i in list:\n",
        "        if i > 0:\n",
        "            s += i\n",
        "    return s\n",
        "\n",
        "r = [10, -2, 40, -4, 15]\n",
        "print(wa( r ))"
      ],
      "metadata": {
        "colab": {
          "base_uri": "https://localhost:8080/"
        },
        "id": "fobFczZttZa2",
        "outputId": "af0e5cbd-2b7a-4315-d18b-9c432a5fa8bf"
      },
      "execution_count": null,
      "outputs": [
        {
          "output_type": "stream",
          "name": "stdout",
          "text": [
            "65\n"
          ]
        }
      ]
    },
    {
      "cell_type": "markdown",
      "source": [
        "### 5.1.8　引数について"
      ],
      "metadata": {
        "id": "oQBTBRSadb8V"
      }
    },
    {
      "cell_type": "code",
      "source": [
        "def func(name=\"Yamada\"):   # nameのデフォルト値を\"Yamada\"\n",
        "    print(\"Hello,\", name)  # nameを使って出力\n",
        "\n",
        "func()           # 引数なし（デフォルト値\"Yamada\"が使われる）\n",
        "func(\"Suzuki\")  # 引数を指定（\"Suzuki\"を使用）"
      ],
      "metadata": {
        "colab": {
          "base_uri": "https://localhost:8080/"
        },
        "id": "rz-36gwNt4cf",
        "outputId": "f6131e84-8c61-4bf1-a895-40c91430f39c"
      },
      "execution_count": null,
      "outputs": [
        {
          "output_type": "stream",
          "name": "stdout",
          "text": [
            "Hello, Yamada\n",
            "Hello, Suzuki\n"
          ]
        }
      ]
    },
    {
      "cell_type": "code",
      "source": [
        "def func(x, y, z):\n",
        "    print(\"x =\", x, \"y =\", y, \"z =\", z)\n",
        "\n",
        "func(1, 2, 5)      # OK（位置引数）\n",
        "func(8, z=2, y=3)  # OK（位置引数 + キーワード引数）\n",
        "# func(1, 2, y=5)  # NG（エラー：y が重複）\n",
        "# func(z=7, 2, 8)  # NG（エラー：位置引数はキーワード引数の後に指定できない）"
      ],
      "metadata": {
        "colab": {
          "base_uri": "https://localhost:8080/"
        },
        "id": "pG_84g8Ut-It",
        "outputId": "b20fbf9b-55f7-4c88-d055-6ebf0dbd906c"
      },
      "execution_count": null,
      "outputs": [
        {
          "output_type": "stream",
          "name": "stdout",
          "text": [
            "x = 1 y = 2 z = 5\n",
            "x = 8 y = 3 z = 2\n"
          ]
        }
      ]
    },
    {
      "cell_type": "code",
      "source": [
        "def func(*args):     # 引数を1つのタプル\n",
        "    print(args)\n",
        "def k_func(**args):  # 複数のキーワード引数を1つの辞書\n",
        "    print(args)\n",
        "\n",
        "func(1, 3, 5, 7)\n",
        "k_func(x=2, y=4, z=6)"
      ],
      "metadata": {
        "colab": {
          "base_uri": "https://localhost:8080/"
        },
        "id": "LAAA9raDuTYF",
        "outputId": "e38f07a0-1c4b-4db9-8eed-94d4563d56d7"
      },
      "execution_count": null,
      "outputs": [
        {
          "output_type": "stream",
          "name": "stdout",
          "text": [
            "(1, 3, 5, 7)\n",
            "{'x': 2, 'y': 4, 'z': 6}\n"
          ]
        }
      ]
    },
    {
      "cell_type": "markdown",
      "source": [
        "## 5.2　モジュール"
      ],
      "metadata": {
        "id": "j0nepyuudmqM"
      }
    },
    {
      "cell_type": "markdown",
      "source": [
        "### 5.2.1　モジュールの作成"
      ],
      "metadata": {
        "id": "8SEH3Ea-dqta"
      }
    },
    {
      "cell_type": "code",
      "source": [
        "def prt_title(title):  # 引数に漢字のタイトルを入れる\n",
        "    print(\"=\" * len(title) * 2)  # タイトルの上に線\n",
        "    print(title)\n",
        "    print(\"=\" * len(title) * 2)  # タイトルの下に線\n",
        "\n",
        "prt_title(\"タイトル\")\n",
        "prt_title(\"タイトル（その２）\")"
      ],
      "metadata": {
        "colab": {
          "base_uri": "https://localhost:8080/"
        },
        "id": "7AjwyztIub_l",
        "outputId": "9d9bba51-9092-4dff-9c8a-a3521ab27b3a"
      },
      "execution_count": null,
      "outputs": [
        {
          "output_type": "stream",
          "name": "stdout",
          "text": [
            "========\n",
            "タイトル\n",
            "========\n",
            "==================\n",
            "タイトル（その２）\n",
            "==================\n"
          ]
        }
      ]
    },
    {
      "cell_type": "markdown",
      "source": [
        "### 5.2.3　モジュールの使用"
      ],
      "metadata": {
        "id": "s4qORRZ1dx-s"
      }
    },
    {
      "cell_type": "code",
      "source": [
        "import prt  # prtモジュールをインポート\n",
        "prt_title(\"はじめに！\")"
      ],
      "metadata": {
        "id": "Sg_7CEpovbL-"
      },
      "execution_count": null,
      "outputs": []
    },
    {
      "cell_type": "markdown",
      "source": [
        "## 5.3　オブジェクト指向"
      ],
      "metadata": {
        "id": "3AeBQWD1d9NE"
      }
    },
    {
      "cell_type": "markdown",
      "source": [
        "### 5.3.3　メソッド"
      ],
      "metadata": {
        "id": "rhoxkD6IeFpk"
      }
    },
    {
      "cell_type": "code",
      "source": [
        "a = \"Tokyo\"\n",
        "n = a.count(\"o\")          # ① \"o\"の数を数える\n",
        "print('count(\"o\"):', n)\n",
        "b = a.replace(\"o\", \"@\")  # ② \"o\"を\"@\"に置き換える\n",
        "print('replace(\"o\", \"@\"):', b)"
      ],
      "metadata": {
        "colab": {
          "base_uri": "https://localhost:8080/"
        },
        "id": "_xclLuxrvlDF",
        "outputId": "005bf4b6-3c22-4726-8a87-896bbc1e5fb2"
      },
      "execution_count": null,
      "outputs": [
        {
          "output_type": "stream",
          "name": "stdout",
          "text": [
            "count(\"o\"): 2\n",
            "replace(\"o\", \"@\"): T@ky@\n"
          ]
        }
      ]
    },
    {
      "cell_type": "markdown",
      "source": [
        "### 5.3.5　クラスの例１"
      ],
      "metadata": {
        "id": "EtnxFs6MeXoL"
      }
    },
    {
      "cell_type": "code",
      "source": [
        "class Prt: # クラスの定義\n",
        "    def __init__(self, message):  # 初期化メソッド\n",
        "        self.v = message  # ① 引数をself.v に代入\n",
        "\n",
        "msg = Prt(\"Python\")       # ② インスタンスの作成\n",
        "print(msg.v)"
      ],
      "metadata": {
        "colab": {
          "base_uri": "https://localhost:8080/"
        },
        "id": "nxRnWrTevpum",
        "outputId": "ef4ac503-a797-4eb9-f6bf-df5f0f77b945"
      },
      "execution_count": null,
      "outputs": [
        {
          "output_type": "stream",
          "name": "stdout",
          "text": [
            "Python\n"
          ]
        }
      ]
    },
    {
      "cell_type": "markdown",
      "source": [
        "### 5.3.6　クラスの例２"
      ],
      "metadata": {
        "id": "FaoSmo23ec79"
      }
    },
    {
      "cell_type": "code",
      "source": [
        "class Prt: # クラスの定義\n",
        "    def __init__(self, name):  # 初期化メソッド\n",
        "        self.v = name  # 引数をself.vに代入\n",
        "\n",
        "    def chgName(self, name):  # 名前を変えるメソッド\n",
        "        self.v = name  # 引数をself.v に代入\n",
        "\n",
        "    def prtName(self):  # 名前を表示するメソッド\n",
        "        print(self.v)\n",
        "\n",
        "pr = Prt(\"yamada\")    # ① インスタンスの作成\n",
        "pr.prtName()           # ② 名前を表示\n",
        "pr.chgName(\"suzuki\")  # ③ self.vの値を変更\n",
        "pr.prtName()           # ④ 名前を表示"
      ],
      "metadata": {
        "colab": {
          "base_uri": "https://localhost:8080/"
        },
        "id": "dJSXXT2_vt4W",
        "outputId": "1402856e-f547-47ee-bfb1-aa97b5d8c9cd"
      },
      "execution_count": null,
      "outputs": [
        {
          "output_type": "stream",
          "name": "stdout",
          "text": [
            "yamada\n",
            "suzuki\n"
          ]
        }
      ]
    },
    {
      "cell_type": "markdown",
      "source": [
        "### 5.3.7　経過時間を計算"
      ],
      "metadata": {
        "id": "QSUkj6pEep2k"
      }
    },
    {
      "cell_type": "code",
      "source": [
        "class LapTime:  # 経過時間を計算\n",
        "    def __init__(self):  # 開始時間と終了時間を初期化\n",
        "        self.start = 0   # 開始時間（秒）\n",
        "        self.end = 0     # 終了時間（秒）\n",
        "\n",
        "    def setStart(self, h, m, s):  # 開始時間をセット\n",
        "        self.start = h * 3600 + m * 60 + s  # 秒に変換\n",
        "\n",
        "    def setEnd(self, h, m, s):  # 終了時間をセット\n",
        "        self.end = h * 3600 + m * 60 + s  # 秒に変換\n",
        "\n",
        "    def calcTime(self):  # 経過時間（秒数）を計算\n",
        "        return self.end - self.start  # 開始時間と終了時間の差\n",
        "\n",
        "    def printTime(self):  # 経過時間を「時:分:秒」の形式で表示\n",
        "        elapsed = self.calcTime()   # 経過時間（秒）\n",
        "        h = elapsed // 3600          # 時\n",
        "        m = (elapsed % 3600) // 60  # 分\n",
        "        s = elapsed % 60             # 秒\n",
        "        print(f\"経過時間: {h} 時間 {m} 分 {s} 秒\")\n",
        "\n",
        "timer = LapTime()\n",
        "timer.setStart(10, 30, 0)  # ① 開始時間を 10:30:00 に設定\n",
        "timer.setEnd(12, 45, 15)   # ② 終了時間を 12:45:15 に設定\n",
        "timer.printTime()          # ③ 経過時間を表示"
      ],
      "metadata": {
        "colab": {
          "base_uri": "https://localhost:8080/"
        },
        "id": "bfMzMDywvyXG",
        "outputId": "3e4d1416-0d91-4f36-b7a8-960e6c13e939"
      },
      "execution_count": null,
      "outputs": [
        {
          "output_type": "stream",
          "name": "stdout",
          "text": [
            "経過時間: 2 時間 15 分 15 秒\n"
          ]
        }
      ]
    },
    {
      "cell_type": "markdown",
      "source": [
        "### 5.3.8　四角形の表示"
      ],
      "metadata": {
        "id": "ZckuwKasex-7"
      }
    },
    {
      "cell_type": "code",
      "source": [
        "class Rectangle:\n",
        "    def __init__(self, width=5, height=3, char=\"+\"): #初期化\n",
        "        self.width = width    # 横の長さ\n",
        "        self.height = height  # 縦の長さ\n",
        "        self.char = char      # 表示する文字\n",
        "\n",
        "    def setWidth(self, width):    # 横の長さをセット\n",
        "        self.width = width\n",
        "\n",
        "    def setHeight(self, height):  # 縦の長さをセット\n",
        "        self.height = height\n",
        "\n",
        "    def setChar(self, char):      # 表示する文字をセット\n",
        "        self.char = char\n",
        "\n",
        "    def printRect(self):  # 四角形を描画\n",
        "        for _ in range(self.height):  # 高さの分だけ繰り返し\n",
        "            print(self.char * self.width)  # 文字を出力\n",
        "\n",
        "rect = Rectangle()  # デフォルトの四角形(横5×縦3, \"+\")を作成\n",
        "rect.printRect()    # ① 四角形を表示\n",
        "print()  # 改行\n",
        "rect.setWidth(10)   # ② 横の長さを 10 に変更\n",
        "rect.setHeight(2)   # ③ 縦の長さを 2 に変更\n",
        "rect.setChar(\"*\")   # ④ 表示する文字を \"*\" に変更\n",
        "rect.printRect()    # ⑤ 四角形を再描画"
      ],
      "metadata": {
        "colab": {
          "base_uri": "https://localhost:8080/"
        },
        "id": "dymgX4VEv3r2",
        "outputId": "7b6f0379-f2d0-4452-e3a7-6df0dee33a9d"
      },
      "execution_count": null,
      "outputs": [
        {
          "output_type": "stream",
          "name": "stdout",
          "text": [
            "+++++\n",
            "+++++\n",
            "+++++\n",
            "\n",
            "**********\n",
            "**********\n"
          ]
        }
      ]
    },
    {
      "cell_type": "markdown",
      "source": [
        "### 5.3.9　継承"
      ],
      "metadata": {
        "id": "uX6fkt9Re2Ys"
      }
    },
    {
      "cell_type": "code",
      "source": [
        "class Car:    # == 親クラス ==\n",
        "    def __init__(self, name):\n",
        "        self.name = name\n",
        "\n",
        "    def job(self):\n",
        "        print(self.name, \"は何かを運ぶ。\")\n",
        "\n",
        "class Truck(Car):   # == 子クラス ==\n",
        "    def job(self):\n",
        "        print(self.name, \"は荷物を運ぶ。\")\n",
        "\n",
        "class Bus(Car):     # == 子クラス ==\n",
        "    def job(self):\n",
        "        print(self.name, \"は人を運ぶ。\")\n",
        "\n",
        "truck = Truck(\"トラック\")  # インスタンスの作成\n",
        "bus = Bus(\"バス\")          # インスタンスの作成\n",
        "\n",
        "truck.job()\n",
        "bus.job()"
      ],
      "metadata": {
        "colab": {
          "base_uri": "https://localhost:8080/"
        },
        "id": "gNaPf_wtv8AO",
        "outputId": "56a9800d-235d-44f8-e65a-e1b12e0ee649"
      },
      "execution_count": null,
      "outputs": [
        {
          "output_type": "stream",
          "name": "stdout",
          "text": [
            "トラック は荷物を運ぶ。\n",
            "バス は人を運ぶ。\n"
          ]
        }
      ]
    }
  ]
}