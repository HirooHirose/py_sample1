{
  "nbformat": 4,
  "nbformat_minor": 0,
  "metadata": {
    "colab": {
      "provenance": []
    },
    "kernelspec": {
      "name": "python3",
      "display_name": "Python 3"
    },
    "language_info": {
      "name": "python"
    }
  },
  "cells": [
    {
      "cell_type": "markdown",
      "source": [
        "# 第4章　リスト・タプル・集合・辞書\n",
        "Pythonでは、配列の役割を果たすものとして、リスト・タプル・集合・辞書がある。この章では、リスト・タプル・集合・辞書について説明する。"
      ],
      "metadata": {
        "id": "XTpp8QE7iH9W"
      }
    },
    {
      "cell_type": "markdown",
      "source": [
        "## 4.1　リスト（list）"
      ],
      "metadata": {
        "id": "eejt07sdVzZj"
      }
    },
    {
      "cell_type": "markdown",
      "source": [
        "### 4.1.2　リストの例"
      ],
      "metadata": {
        "id": "yG_DN4WcWJg6"
      }
    },
    {
      "cell_type": "code",
      "source": [
        "a = [1, 3, 4, 7]\n",
        "b = [\"秋葉原\", \"新宿\", \"中野\"]\n",
        "c = [\"パソコン\", 12, \"マウス\", \"プリンタ\", 8]\n",
        "print(a, b, c)"
      ],
      "metadata": {
        "colab": {
          "base_uri": "https://localhost:8080/"
        },
        "id": "nDmt4a1WiNCu",
        "outputId": "be1bd960-0405-4653-9d32-0403a715919a"
      },
      "execution_count": null,
      "outputs": [
        {
          "output_type": "stream",
          "name": "stdout",
          "text": [
            "[1, 3, 4, 7] ['秋葉原', '新宿', '中野'] ['パソコン', 12, 'マウス', 'プリンタ', 8]\n"
          ]
        }
      ]
    },
    {
      "cell_type": "markdown",
      "source": [
        "### 4.1.3　リストの操作（変更・追加）"
      ],
      "metadata": {
        "id": "qoPPi_coWPOy"
      }
    },
    {
      "cell_type": "code",
      "source": [
        "a = [1, 3, 4, 7]\n",
        "a[1] = 5           # 1番目の要素を5に変更\n",
        "print(\"変更:\", a)  # [1, 5, 4, 7]\n",
        "a = a + [2,5]      # 後ろに2つの要素を追加\n",
        "print(\"追加:\", a)  # [1, 5, 4, 7, 2, 5]\n",
        "a.insert(3, 77)    # 3番目に77を挿入\n",
        "print(\"挿入:\", a)  # [1, 5, 4, 77, 7, 2, 5]"
      ],
      "metadata": {
        "colab": {
          "base_uri": "https://localhost:8080/"
        },
        "id": "llBFXbOSiW2d",
        "outputId": "19f5636e-ae3c-4a43-fab1-f68da2592a57"
      },
      "execution_count": null,
      "outputs": [
        {
          "output_type": "stream",
          "name": "stdout",
          "text": [
            "変更: [1, 5, 4, 7]\n",
            "追加: [1, 5, 4, 7, 2, 5]\n",
            "挿入: [1, 5, 4, 77, 7, 2, 5]\n"
          ]
        }
      ]
    },
    {
      "cell_type": "markdown",
      "source": [
        "### 4.1.4　リストの操作（追加・削除）"
      ],
      "metadata": {
        "id": "76vubWZsWUnK"
      }
    },
    {
      "cell_type": "code",
      "source": [
        "a = [1, 5, 4, 77, 7, 2, 5]\n",
        "del a[3]           # 3番目の要素を削除\n",
        "print(\"削除:\", a)  # [1, 5, 4, 7, 2, 5]\n",
        "a.remove(5)        # 最初に見つかった5を削除\n",
        "print(\"削除:\", a)  # [1, 4, 7, 2, 5]\n",
        "b = [10, 12]\n",
        "a.extend(b)        # リストbの2つの要素を最後に追加\n",
        "print(\"追加:\", a)  # [1, 4, 7, 2, 5, 10, 12]\n",
        "x = a.pop()     # 最後の要素を削除、12を変数xに格納\n",
        "print(\"x:\", x)  # 12\n",
        "print(\"a:\", a)  # [1, 4, 7, 2, 5, 10]\n",
        "x = a.pop(2)    # 2番目の要素を削除、7を変数xに格納\n",
        "print(\"x:\", x)  # 7\n",
        "print(\"a:\", a)  # [1, 4, 2, 5, 10]"
      ],
      "metadata": {
        "colab": {
          "base_uri": "https://localhost:8080/"
        },
        "id": "6W4Ssa2Yicz2",
        "outputId": "d81f557a-cd70-40df-a350-d862c5f60bbb"
      },
      "execution_count": null,
      "outputs": [
        {
          "output_type": "stream",
          "name": "stdout",
          "text": [
            "削除: [1, 5, 4, 7, 2, 5]\n",
            "削除: [1, 4, 7, 2, 5]\n",
            "追加: [1, 4, 7, 2, 5, 10, 12]\n",
            "x: 12\n",
            "a: [1, 4, 7, 2, 5, 10]\n",
            "x: 7\n",
            "a: [1, 4, 2, 5, 10]\n"
          ]
        }
      ]
    },
    {
      "cell_type": "markdown",
      "source": [
        "### 4.1.5　リストの要素数の取得（len）"
      ],
      "metadata": {
        "id": "I1CefQCZW506"
      }
    },
    {
      "cell_type": "code",
      "source": [
        "a = [1, 3, 4, 7, 2, 5]\n",
        "print(\"要素数:\", len(a))  # リストの要素数"
      ],
      "metadata": {
        "colab": {
          "base_uri": "https://localhost:8080/"
        },
        "id": "5oL0ywqoihy9",
        "outputId": "b2be44c6-dc60-49c3-9990-6e3430f18b52"
      },
      "execution_count": null,
      "outputs": [
        {
          "output_type": "stream",
          "name": "stdout",
          "text": [
            "要素数: 6\n"
          ]
        }
      ]
    },
    {
      "cell_type": "markdown",
      "source": [
        "### 4.1.6　リストの操作（in・index・count・sort）"
      ],
      "metadata": {
        "id": "waH2BojDXDhC"
      }
    },
    {
      "cell_type": "code",
      "source": [
        "a = [1, 3, 7, 2]\n",
        "print(7 in a)    # 7があるのでTrueを表示\n",
        "print(9 in a)    # 9は無いのでFalseを表示\n",
        "print(\"何番目か:\", a.index(7))  # 7の位置を表示(2)\n",
        "print(\"出現回数:\", a.count(5))  # 5の数を数える(0)\n",
        "a.sort()    # リストを昇順に整列\n",
        "print(\"整列:\", a)  # [1, 2, 3, 7]"
      ],
      "metadata": {
        "colab": {
          "base_uri": "https://localhost:8080/"
        },
        "id": "RtArRQEFilwt",
        "outputId": "e2c3c7eb-afd1-4a10-9ce5-be76d700fd75"
      },
      "execution_count": null,
      "outputs": [
        {
          "output_type": "stream",
          "name": "stdout",
          "text": [
            "True\n",
            "False\n",
            "何番目か: 2\n",
            "出現回数: 0\n",
            "整列: [1, 2, 3, 7]\n"
          ]
        }
      ]
    },
    {
      "cell_type": "markdown",
      "source": [
        "### 4.1.7　リストの操作（max・min・sum）"
      ],
      "metadata": {
        "id": "vkJRQzzcXPTq"
      }
    },
    {
      "cell_type": "code",
      "source": [
        "a = [1, 3, 4, 7, 2, 5]\n",
        "b = [\"a\", \"z\", \"B\", \"w\"]\n",
        "print(\"max a:\", max(a))  # リストaの最大値\n",
        "print(\"max b:\", max(b))  # リストbの最大値\n",
        "print(\"min a:\", min(a))  # リストaの最小値\n",
        "print(\"min b:\", min(b))  # リストbの最小値\n",
        "print(\"合計 a:\", sum(a))  # リストaの合計\n",
        "print(\"平均 a:\", sum(a) / len(a))  # リストaの平均値"
      ],
      "metadata": {
        "colab": {
          "base_uri": "https://localhost:8080/"
        },
        "id": "A6rLUGVViqLO",
        "outputId": "2a6c5340-27b2-4eb9-bc35-6632318bc186"
      },
      "execution_count": null,
      "outputs": [
        {
          "output_type": "stream",
          "name": "stdout",
          "text": [
            "max a: 7\n",
            "max b: z\n",
            "min a: 1\n",
            "min b: B\n",
            "合計 a: 22\n",
            "平均 a: 3.6666666666666665\n"
          ]
        }
      ]
    },
    {
      "cell_type": "markdown",
      "source": [
        "### 4.1.8　正の数値だけの合計"
      ],
      "metadata": {
        "id": "1BfpHwDgXWCc"
      }
    },
    {
      "cell_type": "code",
      "source": [
        "a = [1, 4, -4, 6, 9, -5]\n",
        "s = 0         # 変数sの初期値を0\n",
        "for i in a:  # リストの要素を1つずつ変数iに取り出す\n",
        "    print(i, end=\" \")     # 変数iの値を表示\n",
        "    if i > 0:             # 変数iの値と0を比較\n",
        "        s += i            # 変数sに変数iの値を加算\n",
        "print(\"\\n正の合計:\", s)  # 変数sを表示"
      ],
      "metadata": {
        "colab": {
          "base_uri": "https://localhost:8080/"
        },
        "id": "j3XV825DitE-",
        "outputId": "e5c4b1df-20dc-4fca-d731-b464907f7d60"
      },
      "execution_count": null,
      "outputs": [
        {
          "output_type": "stream",
          "name": "stdout",
          "text": [
            "1 4 -4 6 9 -5 \n",
            "正の合計: 20\n"
          ]
        }
      ]
    },
    {
      "cell_type": "markdown",
      "source": [
        "### 4.1.9　スライス機能"
      ],
      "metadata": {
        "id": "rKtQukBSXkA6"
      }
    },
    {
      "cell_type": "code",
      "source": [
        "x = [1, 2, 9, 6, 3]\n",
        "a = x[2:4]  # 2番目から3番目まで取り出す\n",
        "b = x[2:]   # 2番目から最後まで取り出す\n",
        "c = x[:3]   # 最初から2番目までのリスト\n",
        "print(\"a=\", a)\n",
        "print(\"b=\", b)\n",
        "print(\"c=\", c)"
      ],
      "metadata": {
        "colab": {
          "base_uri": "https://localhost:8080/"
        },
        "id": "96X7X73zjAS2",
        "outputId": "c97da659-a6dc-4dc0-9284-a1b754ea5491"
      },
      "execution_count": null,
      "outputs": [
        {
          "output_type": "stream",
          "name": "stdout",
          "text": [
            "a= [9, 6]\n",
            "b= [9, 6, 3]\n",
            "c= [1, 2, 9]\n"
          ]
        }
      ]
    },
    {
      "cell_type": "markdown",
      "source": [
        "### 4.1.10　2次元のリスト"
      ],
      "metadata": {
        "id": "HiIcpF5SXwBL"
      }
    },
    {
      "cell_type": "code",
      "source": [
        "ten = [ [80, 90, 68],\n",
        "        [57, 78, 87],\n",
        "        [34, 67, 75],\n",
        "        [40, 70, 88],\n",
        "        [77, 90, 99]]\n",
        "s = 3 * [0]  # リストsの要素を0\n",
        "print(\"     国語 数学 英語 合計\")\n",
        "for i in range(len(ten)):  # 外側のfor文で人数分の処理を行う\n",
        "    t = 0  # 3教科の合計を求める変数tの値を0\n",
        "    print(\"    \", end=\"\")\n",
        "    for j in range(3):  # 内側のfor文で科目数分の処理を行う\n",
        "        print(\"{: >5}\".format(ten[i][j]), end=\"\")\n",
        "        t += ten[i][j]  # 点数を変数tに加算\n",
        "        s[j] += ten[i][j]\n",
        "    print(\"{: >5}\".format(t))  # 3教科の合計\n",
        "print(\"合計\", end=\"\")  # 合計の表示\n",
        "for i in s:  # 科目ごとの合計\n",
        "    print(\"{: >5}\".format(i), end=\"\")"
      ],
      "metadata": {
        "colab": {
          "base_uri": "https://localhost:8080/"
        },
        "id": "nOFf4Vs1jH19",
        "outputId": "f6931f7b-0504-403c-bfaf-e92dbdfb71ba"
      },
      "execution_count": 2,
      "outputs": [
        {
          "output_type": "stream",
          "name": "stdout",
          "text": [
            "     国語 数学 英語 合計\n",
            "       80   90   68  238\n",
            "       57   78   87  222\n",
            "       34   67   75  176\n",
            "       40   70   88  198\n",
            "       77   90   99  266\n",
            "合計  288  395  417"
          ]
        }
      ]
    },
    {
      "cell_type": "markdown",
      "source": [
        "# 4.2　**タプル（tuple）**"
      ],
      "metadata": {
        "id": "o3X22P1jjM_1"
      }
    },
    {
      "cell_type": "code",
      "source": [
        "a = (1, 3, 4, 7)\n",
        "b = (\"飯田橋\", \"市ヶ谷\", \"新宿\")\n",
        "c = (\"パソコン\", 12, \"マウス\", \"プリンタ\", 8)\n",
        "print(a)\n",
        "print(b)\n",
        "print(c)"
      ],
      "metadata": {
        "colab": {
          "base_uri": "https://localhost:8080/"
        },
        "id": "RUxJ35I3jPDO",
        "outputId": "bc3be0c8-ec29-4f79-8b3d-44d08ce8ff3b"
      },
      "execution_count": null,
      "outputs": [
        {
          "output_type": "stream",
          "name": "stdout",
          "text": [
            "(1, 3, 4, 7)\n",
            "('飯田橋', '市ヶ谷', '新宿')\n",
            "('パソコン', 12, 'マウス', 'プリンタ', 8)\n"
          ]
        }
      ]
    },
    {
      "cell_type": "markdown",
      "source": [
        "# 4.3　**集合（set）**"
      ],
      "metadata": {
        "id": "PTX584iLjU7e"
      }
    },
    {
      "cell_type": "markdown",
      "source": [
        "### 4.3.1　集合の操作in"
      ],
      "metadata": {
        "id": "_LKZ1-uUZkVr"
      }
    },
    {
      "cell_type": "code",
      "source": [
        "b = {\"秋葉原\", \"上野\", \"王子\"}   # 集合を定義\n",
        "print(\"上野\" in b)    # True（\"上野\" は集合bに含まれる）\n",
        "print(\"飯田橋\" in b)  # False（\"飯田橋\"は集合bに含まれていない）"
      ],
      "metadata": {
        "colab": {
          "base_uri": "https://localhost:8080/"
        },
        "id": "jWw1M1D4jXh_",
        "outputId": "835855ca-5902-4770-964f-de7a5f1ca0e8"
      },
      "execution_count": null,
      "outputs": [
        {
          "output_type": "stream",
          "name": "stdout",
          "text": [
            "True\n",
            "False\n"
          ]
        }
      ]
    },
    {
      "cell_type": "markdown",
      "source": [
        "### 4.3.2　追加・削除・pop"
      ],
      "metadata": {
        "id": "A--uwxQhZ41D"
      }
    },
    {
      "cell_type": "code",
      "source": [
        "a = { 1, 3, 7, 4}\n",
        "print(\"a:\", a)\n",
        "a.add(2)        # 2を追加\n",
        "print(\"追加:\", a)\n",
        "a.discard(3)    # 3を削除\n",
        "print(\"削除:\", a)\n",
        "v = a.pop()     # 要素を削除し、その値を変数vに格納\n",
        "print(\"v:\", v)\n",
        "print(\"pop:\", a)"
      ],
      "metadata": {
        "colab": {
          "base_uri": "https://localhost:8080/"
        },
        "id": "LKhwcJfGjfMW",
        "outputId": "e59ab55a-73ee-4742-e996-cdad21f0e0d6"
      },
      "execution_count": null,
      "outputs": [
        {
          "output_type": "stream",
          "name": "stdout",
          "text": [
            "a: {1, 3, 4, 7}\n",
            "追加: {1, 2, 3, 4, 7}\n",
            "削除: {1, 2, 4, 7}\n",
            "v: 1\n",
            "pop: {2, 4, 7}\n"
          ]
        }
      ]
    },
    {
      "cell_type": "markdown",
      "source": [
        "### 4.3.3　和集合・積集合・差集合・排他的論理和"
      ],
      "metadata": {
        "id": "-b-g6H8iaBZ7"
      }
    },
    {
      "cell_type": "code",
      "source": [
        "a = { 1, 3, 4, 7}\n",
        "b = { 1, 5, 6, 7, 9}\n",
        "c = a | b      # 和集合\n",
        "print(\"和:\", c)\n",
        "c = a & b      # 和集合\n",
        "print(\"積:\", c)\n",
        "c = a - b      # 差集合 a-b\n",
        "print(\"差 a-b:\", c)\n",
        "c = b - a      # 差集合 b-a\n",
        "print(\"差 b-a:\", c)\n",
        "c = a ^ b      # 排他的論理和集合\n",
        "print(\"排他的論理和:\", c)"
      ],
      "metadata": {
        "colab": {
          "base_uri": "https://localhost:8080/"
        },
        "id": "0Sykn-oWjkKl",
        "outputId": "394906f9-9c02-4c8d-c67d-e526f0f28e09"
      },
      "execution_count": null,
      "outputs": [
        {
          "output_type": "stream",
          "name": "stdout",
          "text": [
            "和: {1, 3, 4, 5, 6, 7, 9}\n",
            "積: {1, 7}\n",
            "差 a-b: {3, 4}\n",
            "差 b-a: {9, 5, 6}\n",
            "排他的論理和: {3, 4, 5, 6, 9}\n"
          ]
        }
      ]
    },
    {
      "cell_type": "markdown",
      "source": [
        "# 4.4　**辞書（dict）**"
      ],
      "metadata": {
        "id": "GsS2m5lAjnut"
      }
    },
    {
      "cell_type": "markdown",
      "source": [
        "### 4.4.1　辞書の例"
      ],
      "metadata": {
        "id": "1MUhWT_3aIOd"
      }
    },
    {
      "cell_type": "code",
      "source": [
        "a = {11:\"数学\", 13:\"化学\", 12:\"物理\"}\n",
        "print(\"a=\", a)\n",
        "print(\"a[13]=\", a[13])       # キー13に対応する値を取得\n",
        "print(14 in a.keys())        # キー14が辞書aに存在するか\n",
        "print(\"数学\" in a.values())  # 値\"数学\"が辞書aに存在するか\n",
        "a[17] = \"建築\"   # 新しい学科コード17を追加\n",
        "print(\"a=\", a)\n",
        "a.pop(11)        # 学科コード11を削除\n",
        "print(\"pop:\", a)\n",
        "s = sorted(a.items())  # 学科コードの順に整列\n",
        "print(\"sort:\", s)"
      ],
      "metadata": {
        "colab": {
          "base_uri": "https://localhost:8080/"
        },
        "id": "VwxI32Exjpkg",
        "outputId": "4e1ababe-a45e-4a31-b716-af48f10d0b75"
      },
      "execution_count": null,
      "outputs": [
        {
          "output_type": "stream",
          "name": "stdout",
          "text": [
            "a= {11: '数学', 13: '化学', 12: '物理'}\n",
            "a[13]= 化学\n",
            "False\n",
            "True\n",
            "a= {11: '数学', 13: '化学', 12: '物理', 17: '建築'}\n",
            "pop: {13: '化学', 12: '物理', 17: '建築'}\n",
            "sort: [(12, '物理'), (13, '化学'), (17, '建築')]\n"
          ]
        }
      ]
    },
    {
      "cell_type": "markdown",
      "source": [
        "### 4.4.2　zip()関数"
      ],
      "metadata": {
        "id": "R9fjs4oTaR-D"
      }
    },
    {
      "cell_type": "code",
      "source": [
        "key = [11, 12, 13, 17]                  # 学科コードのリスト\n",
        "val = [\"数学\", \"物理\", \"化学\", \"建築\"]  # 学科名のリスト\n",
        "z = dict(zip(key, val))  # 辞書型のデータ作成\n",
        "print(z)"
      ],
      "metadata": {
        "colab": {
          "base_uri": "https://localhost:8080/"
        },
        "id": "LYfOsxiujw-1",
        "outputId": "161bd7cd-5dfd-4342-ffe1-ed688578c777"
      },
      "execution_count": null,
      "outputs": [
        {
          "output_type": "stream",
          "name": "stdout",
          "text": [
            "{11: '数学', 12: '物理', 13: '化学', 17: '建築'}\n"
          ]
        }
      ]
    },
    {
      "cell_type": "markdown",
      "source": [
        "### 4.4.3　in演算子による検索"
      ],
      "metadata": {
        "id": "NvdrdO4laXZ7"
      }
    },
    {
      "cell_type": "code",
      "source": [
        "a = {11:\"数学\", 13:\"化学\", 12:\"物理\"}\n",
        "s_key = 11 in a.keys()            # 学科コード11の検索\n",
        "s_val = \"化学\" in a.values()      # 学科名\"化学\"の検索\n",
        "s_item= (12,\"物理\") in a.items()  # \"12:物理\"の検索\n",
        "print(\"s_key =\", s_key)\n",
        "print(\"s_val =\", s_val)\n",
        "print(\"s_item=\", s_item)"
      ],
      "metadata": {
        "colab": {
          "base_uri": "https://localhost:8080/"
        },
        "id": "qZ0k9iAaj6zG",
        "outputId": "5025f6e9-7fc0-4ce2-aad1-b464d1b2e822"
      },
      "execution_count": null,
      "outputs": [
        {
          "output_type": "stream",
          "name": "stdout",
          "text": [
            "s_key = True\n",
            "s_val = True\n",
            "s_item= True\n"
          ]
        }
      ]
    },
    {
      "cell_type": "markdown",
      "source": [
        "### 4.4.4　要素の取得"
      ],
      "metadata": {
        "id": "X3OqDq8racqc"
      }
    },
    {
      "cell_type": "code",
      "source": [
        "a = {11:\"数学\", 13:\"化学\", 12:\"物理\"}\n",
        "print(a.keys())     # 学科コードの表示\n",
        "print(a.values())   # 学科名の表示\n",
        "print(a.items())    # 両方（学科コードと学科名）の表示\n",
        "print(\"◎ キーを取り出す\")\n",
        "for k in a.keys():\n",
        "    print(k, end=\" \")  # 改行なし\n",
        "print(\"\\n◎ 値を取り出す\")\n",
        "for v in a.values():\n",
        "    print(v, end=\" \")\n",
        "print(\"\\n◎ キーと値を取り出す\")\n",
        "for item in a.items():\n",
        "    print(item, end=\" \")"
      ],
      "metadata": {
        "colab": {
          "base_uri": "https://localhost:8080/"
        },
        "id": "Uxseqlc6j_Yu",
        "outputId": "01a64117-70d5-42f6-b6a6-9dd846c09a03"
      },
      "execution_count": null,
      "outputs": [
        {
          "output_type": "stream",
          "name": "stdout",
          "text": [
            "dict_keys([11, 13, 12])\n",
            "dict_values(['数学', '化学', '物理'])\n",
            "dict_items([(11, '数学'), (13, '化学'), (12, '物理')])\n",
            "◎ キーを取り出す\n",
            "11 13 12 \n",
            "◎ 値を取り出す\n",
            "数学 化学 物理 \n",
            "◎ キーと値を取り出す\n",
            "(11, '数学') (13, '化学') (12, '物理') "
          ]
        }
      ]
    }
  ]
}