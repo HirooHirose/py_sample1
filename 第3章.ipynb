{
  "nbformat": 4,
  "nbformat_minor": 0,
  "metadata": {
    "colab": {
      "provenance": []
    },
    "kernelspec": {
      "name": "python3",
      "display_name": "Python 3"
    },
    "language_info": {
      "name": "python"
    }
  },
  "cells": [
    {
      "cell_type": "markdown",
      "source": [
        "# 第3章　制御構文\n",
        "この章では、if文、比較演算子、for文、while文について説明する。"
      ],
      "metadata": {
        "id": "MfuoSfqDLoUw"
      }
    },
    {
      "cell_type": "markdown",
      "source": [
        "## 3.1　if文"
      ],
      "metadata": {
        "id": "tpOoMVA0LfWz"
      }
    },
    {
      "cell_type": "markdown",
      "source": [
        "### 3.1.1　プログラムの流れ"
      ],
      "metadata": {
        "id": "kjJD2i_ZL_Qh"
      }
    },
    {
      "cell_type": "code",
      "source": [
        "a = 10           # ① 変数aの値を10にする\n",
        "a = a + 2        # ② aの値を2加算する\n",
        "print(\"a=\", a)   # ③ aの値を表示する"
      ],
      "metadata": {
        "colab": {
          "base_uri": "https://localhost:8080/"
        },
        "id": "2N9LQw8ILuaf",
        "outputId": "de1f39a5-5adc-4927-f9ee-b34a0acc6625"
      },
      "execution_count": null,
      "outputs": [
        {
          "output_type": "stream",
          "name": "stdout",
          "text": [
            "a= 12\n"
          ]
        }
      ]
    },
    {
      "cell_type": "markdown",
      "source": [
        "### 3.1.3　if文"
      ],
      "metadata": {
        "id": "tq0bQzCSMHuB"
      }
    },
    {
      "cell_type": "code",
      "source": [
        "t = 65      # tの値を65\n",
        "if t >= 60: # 60以上？\n",
        "    print(\"合格\")\n",
        "else:\n",
        "    print(\"不合格\")"
      ],
      "metadata": {
        "colab": {
          "base_uri": "https://localhost:8080/"
        },
        "id": "UeVncM_qMHyn",
        "outputId": "322fd259-4005-46b1-bce3-6fe5778db95c"
      },
      "execution_count": null,
      "outputs": [
        {
          "output_type": "stream",
          "name": "stdout",
          "text": [
            "合格\n"
          ]
        }
      ]
    },
    {
      "cell_type": "markdown",
      "source": [
        "### 3.1.6　elseがない場合"
      ],
      "metadata": {
        "id": "A7k-MpNAMRW5"
      }
    },
    {
      "cell_type": "code",
      "source": [
        "t = input(\"t:\")\n",
        "t = int(t) # 整数型へ\n",
        "if t >= 60:\n",
        "    print(\"ok\")"
      ],
      "metadata": {
        "colab": {
          "base_uri": "https://localhost:8080/"
        },
        "id": "GUorrEnbMu7P",
        "outputId": "daad0fd6-9ccb-4e5b-aab0-deec40d65619"
      },
      "execution_count": null,
      "outputs": [
        {
          "output_type": "stream",
          "name": "stdout",
          "text": [
            "t:70\n",
            "ok\n"
          ]
        }
      ]
    },
    {
      "cell_type": "markdown",
      "source": [
        "### 3.1.7　文字列の比較"
      ],
      "metadata": {
        "id": "JU3506xqMkJz"
      }
    },
    {
      "cell_type": "code",
      "source": [
        "a = \"A\"\n",
        "b = \"a\"\n",
        "c = \"aa\"\n",
        "d = \"ab\"\n",
        "print(a == b)\n",
        "print(c < d )"
      ],
      "metadata": {
        "colab": {
          "base_uri": "https://localhost:8080/"
        },
        "id": "f5ifY0VpM8pu",
        "outputId": "0614fd5c-6245-402c-ef54-38a43559f988"
      },
      "execution_count": null,
      "outputs": [
        {
          "output_type": "stream",
          "name": "stdout",
          "text": [
            "False\n",
            "True\n"
          ]
        }
      ]
    },
    {
      "cell_type": "markdown",
      "source": [
        "### 3.1.8　elif"
      ],
      "metadata": {
        "id": "9XemN7DtMsYZ"
      }
    },
    {
      "cell_type": "code",
      "source": [
        "t = input(\"t:\")\n",
        "t = int(t)\n",
        "if t >= 70:\n",
        "    print(\"合格\")\n",
        "elif t <= 59:\n",
        "    print(\"不合格\")\n",
        "else:\n",
        "    print(\"再試験\")"
      ],
      "metadata": {
        "colab": {
          "base_uri": "https://localhost:8080/"
        },
        "id": "sPLAZcoONU53",
        "outputId": "e23c517f-151b-4437-bfe9-73cc7208427b"
      },
      "execution_count": null,
      "outputs": [
        {
          "output_type": "stream",
          "name": "stdout",
          "text": [
            "t:67\n",
            "再試験\n"
          ]
        }
      ]
    },
    {
      "cell_type": "markdown",
      "source": [
        "### 3.1.9　inでの判定"
      ],
      "metadata": {
        "id": "uEuYZgGEM6By"
      }
    },
    {
      "cell_type": "code",
      "source": [
        "m = int(input(\"月:\"))\n",
        "if m == 2:\n",
        "    d = 28\n",
        "elif m in [4, 6, 9, 11]:\n",
        "    d = 30\n",
        "else:\n",
        "    d = 31\n",
        "print(d)"
      ],
      "metadata": {
        "colab": {
          "base_uri": "https://localhost:8080/"
        },
        "id": "JQePmeaIN0Kw",
        "outputId": "6e9a5be6-94d6-41d3-b02b-d12615fec2b1"
      },
      "execution_count": null,
      "outputs": [
        {
          "output_type": "stream",
          "name": "stdout",
          "text": [
            "月:5\n",
            "31\n"
          ]
        }
      ]
    },
    {
      "cell_type": "markdown",
      "source": [
        "### 3.1.10　論理演算"
      ],
      "metadata": {
        "id": "IZpI7brTNJ6p"
      }
    },
    {
      "cell_type": "code",
      "source": [
        "a = True\n",
        "b = not a\n",
        "print(a, b)   # 表示：True False\n",
        "if a:\n",
        "    print(a)  # 表示：OK True"
      ],
      "metadata": {
        "colab": {
          "base_uri": "https://localhost:8080/"
        },
        "id": "xUTk_OdAOKAf",
        "outputId": "518cf790-45fc-4c4c-92fe-a26b5c74dd07"
      },
      "execution_count": null,
      "outputs": [
        {
          "output_type": "stream",
          "name": "stdout",
          "text": [
            "True False\n",
            "True\n"
          ]
        }
      ]
    },
    {
      "cell_type": "markdown",
      "source": [
        "### 3.1.11　範囲の記述"
      ],
      "metadata": {
        "id": "D4HN8MSaNAI8"
      }
    },
    {
      "cell_type": "code",
      "source": [
        "t = 3\n",
        "if 2 <= t and t <= 5:\n",
        "    print(\"ok\")\n",
        "t = 3\n",
        "if 2 <= t <= 5:\n",
        "    print(\"ok\")"
      ],
      "metadata": {
        "colab": {
          "base_uri": "https://localhost:8080/"
        },
        "id": "Xdb5FFHqOQAv",
        "outputId": "552733a6-7f5a-4ab0-e1b8-6bd6869e5a51"
      },
      "execution_count": null,
      "outputs": [
        {
          "output_type": "stream",
          "name": "stdout",
          "text": [
            "ok\n",
            "ok\n"
          ]
        }
      ]
    },
    {
      "cell_type": "markdown",
      "source": [
        "### 3.1.12　A,B,C,Dの判定"
      ],
      "metadata": {
        "id": "WgyQpVqnNXwK"
      }
    },
    {
      "cell_type": "code",
      "source": [
        "t = input(\"点数:\")\n",
        "t = int(t)  # 文字列から整数へ\n",
        "if t < 60:\n",
        "    print(\"D\")\n",
        "else:\n",
        "    if t >= 80:\n",
        "        print(\"A\")\n",
        "    if t >= 70 and t < 80:  # 8行目：70以上80未満の判定\n",
        "        print(\"B\")\n",
        "    if t >= 60 and t < 70:  # 10行目：60以上70未満の判定\n",
        "        print(\"C\")"
      ],
      "metadata": {
        "colab": {
          "base_uri": "https://localhost:8080/"
        },
        "id": "HxdRjB8-OXq3",
        "outputId": "4dc9482c-ee75-4c6a-d2fe-6207bc3f8196"
      },
      "execution_count": null,
      "outputs": [
        {
          "output_type": "stream",
          "name": "stdout",
          "text": [
            "点数:75\n",
            "B\n"
          ]
        }
      ]
    },
    {
      "cell_type": "markdown",
      "source": [
        "# 3.2　**for文**"
      ],
      "metadata": {
        "id": "rFWd7L5iPUrH"
      }
    },
    {
      "cell_type": "markdown",
      "source": [
        "### 3.2.4　1～5までの加算"
      ],
      "metadata": {
        "id": "7VIke4M2NqiJ"
      }
    },
    {
      "cell_type": "code",
      "source": [
        "s = 0\n",
        "for i in range(1, 6):\n",
        "    s = s + i\n",
        "    print(s)\n",
        "print(\"合計\", s)"
      ],
      "metadata": {
        "colab": {
          "base_uri": "https://localhost:8080/"
        },
        "id": "E_BjpziXPYEq",
        "outputId": "da40a9ca-2350-414a-9869-8f5573319426"
      },
      "execution_count": null,
      "outputs": [
        {
          "output_type": "stream",
          "name": "stdout",
          "text": [
            "1\n",
            "3\n",
            "6\n",
            "10\n",
            "15\n",
            "合計 15\n"
          ]
        }
      ]
    },
    {
      "cell_type": "markdown",
      "source": [
        "### 3.2.6　文字の種類の判定"
      ],
      "metadata": {
        "id": "rgqO1BP5NxgS"
      }
    },
    {
      "cell_type": "code",
      "source": [
        "a = \"Ab4:\"\n",
        "for i in a:\n",
        "    if i.isalpha():    # 英字の判定\n",
        "        print(i, \"英字\")\n",
        "    if i.isdecimal():  # 10進数値の判定\n",
        "        print(i, \"10進数値\")\n",
        "    if i.islower():    # 小文字の判定\n",
        "        print(i,\" 小文字\")\n",
        "    if i.isupper():    # 大文字の判定\n",
        "        print(i, \"大文字\")"
      ],
      "metadata": {
        "colab": {
          "base_uri": "https://localhost:8080/"
        },
        "id": "4HZ2A3v7QGbf",
        "outputId": "bf81f0d7-fd1c-4e04-dc8b-4cce9a2a1a29"
      },
      "execution_count": null,
      "outputs": [
        {
          "output_type": "stream",
          "name": "stdout",
          "text": [
            "A 英字\n",
            "A 大文字\n",
            "b 英字\n",
            "b  小文字\n",
            "4 10進数値\n"
          ]
        }
      ]
    },
    {
      "cell_type": "markdown",
      "source": [
        "# 3.3　**break・continue文**"
      ],
      "metadata": {
        "id": "6gxEQy3PQL53"
      }
    },
    {
      "cell_type": "markdown",
      "source": [
        "### 3.3.1　break文"
      ],
      "metadata": {
        "id": "cwXIIs-ERTCC"
      }
    },
    {
      "cell_type": "code",
      "source": [
        "s = 0\n",
        "for i in range(1, 6):\n",
        "    s = s + i\n",
        "    if s >= 10:\n",
        "        break\n",
        "    print(\"s=\", s)\n",
        "print(\"合計:\", s)"
      ],
      "metadata": {
        "colab": {
          "base_uri": "https://localhost:8080/"
        },
        "id": "OTOQc8w_QOr4",
        "outputId": "ccb13021-c0fe-4710-999c-806dedc9d8c3"
      },
      "execution_count": 4,
      "outputs": [
        {
          "output_type": "stream",
          "name": "stdout",
          "text": [
            "s= 1\n",
            "s= 3\n",
            "s= 6\n",
            "合計: 10\n"
          ]
        }
      ]
    },
    {
      "cell_type": "markdown",
      "source": [
        "### 3.3.2　continue文"
      ],
      "metadata": {
        "id": "3fq5ahlHUoYb"
      }
    },
    {
      "cell_type": "code",
      "source": [
        "for i in range(1, 8):\n",
        "    if i%3 == 0:\n",
        "        continue\n",
        "    print(\"i=%d\", i)"
      ],
      "metadata": {
        "colab": {
          "base_uri": "https://localhost:8080/"
        },
        "id": "TT7CYP_iR5Fv",
        "outputId": "03750ee2-8017-45d8-b25f-13a20ed6fca3"
      },
      "execution_count": null,
      "outputs": [
        {
          "output_type": "stream",
          "name": "stdout",
          "text": [
            "i=%d 1\n",
            "i=%d 2\n",
            "i=%d 4\n",
            "i=%d 5\n",
            "i=%d 7\n"
          ]
        }
      ]
    },
    {
      "cell_type": "markdown",
      "source": [
        "### 3.3.3　2重のループ"
      ],
      "metadata": {
        "id": "p7q1d7yHUs5S"
      }
    },
    {
      "cell_type": "code",
      "source": [
        "for i in range(4):\n",
        "    for j in range(3):\n",
        "        print(i, j)\n",
        "        if j == 1:\n",
        "            break\n",
        "    print(\"====\")"
      ],
      "metadata": {
        "colab": {
          "base_uri": "https://localhost:8080/"
        },
        "id": "EuwC0mYXS4Pu",
        "outputId": "198fe682-7ecb-465b-f66f-f8f9420731a5"
      },
      "execution_count": null,
      "outputs": [
        {
          "output_type": "stream",
          "name": "stdout",
          "text": [
            "0 0\n",
            "0 1\n",
            "====\n",
            "1 0\n",
            "1 1\n",
            "====\n",
            "2 0\n",
            "2 1\n",
            "====\n",
            "3 0\n",
            "3 1\n",
            "====\n"
          ]
        }
      ]
    },
    {
      "cell_type": "markdown",
      "source": [
        "## 3.4　while文"
      ],
      "metadata": {
        "id": "XsDP9o2CU3NU"
      }
    },
    {
      "cell_type": "markdown",
      "source": [
        "### 3.4.1　while文で1から5までの加算"
      ],
      "metadata": {
        "id": "90Xl_HKgU8jj"
      }
    },
    {
      "cell_type": "code",
      "source": [
        "s = 0\n",
        "i = 1\n",
        "while i <= 5:\n",
        "    s = s + i\n",
        "    i += 1\n",
        "print(s)"
      ],
      "metadata": {
        "colab": {
          "base_uri": "https://localhost:8080/"
        },
        "id": "IeQQhxS_TQR_",
        "outputId": "de78c7a2-1f8a-42d5-a75e-74a98846d63a"
      },
      "execution_count": null,
      "outputs": [
        {
          "output_type": "stream",
          "name": "stdout",
          "text": [
            "15\n"
          ]
        }
      ]
    },
    {
      "cell_type": "code",
      "source": [
        "s = 0\n",
        "for i in range(1, 6):\n",
        "    s = s + i\n",
        "print(s)"
      ],
      "metadata": {
        "colab": {
          "base_uri": "https://localhost:8080/"
        },
        "id": "fpQWISaSTfJn",
        "outputId": "028dd581-62d6-4e7e-b6ea-086994c272c8"
      },
      "execution_count": null,
      "outputs": [
        {
          "output_type": "stream",
          "name": "stdout",
          "text": [
            "15\n"
          ]
        }
      ]
    },
    {
      "cell_type": "markdown",
      "source": [
        "### 3.4.2　無限ループ"
      ],
      "metadata": {
        "id": "qDv1ZF1xVNHz"
      }
    },
    {
      "cell_type": "code",
      "source": [
        "i = 1\n",
        "while i > 0:\n",
        "    i += 1\n",
        "    if i > 10:  # 変数iの値が10より大きい場合\n",
        "        break   # ループを抜ける\n",
        "    print(\"i=\", i)"
      ],
      "metadata": {
        "colab": {
          "base_uri": "https://localhost:8080/"
        },
        "id": "l42cLFjKUbzv",
        "outputId": "408b7cc6-1e64-4e17-9912-9ed9abb24a79"
      },
      "execution_count": null,
      "outputs": [
        {
          "output_type": "stream",
          "name": "stdout",
          "text": [
            "i= 2\n",
            "i= 3\n",
            "i= 4\n",
            "i= 5\n",
            "i= 6\n",
            "i= 7\n",
            "i= 8\n",
            "i= 9\n",
            "i= 10\n"
          ]
        }
      ]
    }
  ]
}